{
 "cells": [
  {
   "cell_type": "markdown",
   "metadata": {},
   "source": [
    "# GGA 的 Kohn-Sham 交换相关势函数导出"
   ]
  },
  {
   "cell_type": "markdown",
   "metadata": {
    "lang": "en"
   },
   "source": [
    "This document will take PBE as an example to obtain (pure, excluding the exact exchange part) the exchange-related potential function $v_\\mathrm{xc} (\\boldsymbol{r})$ of the closed shell (Restricted) GGA (Generalized Gradient Approximation). Some notation in this document will tend to [pyxdh document](https://py-xdh.readthedocs.io/zh_CN/latest/qcbasic/basic_gga.html), but all are related to functional The quantity related to the kernel or its derivative is not multiplied by the grid point weight."
   ]
  },
  {
   "cell_type": "code",
   "execution_count": 1,
   "metadata": {},
   "outputs": [
    {
     "name": "stderr",
     "output_type": "stream",
     "text": [
      "/home/alexander/.conda/envs/py35/lib/python3.5/site-packages/h5py/__init__.py:36: FutureWarning: Conversion of the second argument of issubdtype from `float` to `np.floating` is deprecated. In future, it will be treated as `np.float64 == np.dtype(float).type`.\n",
      "  from ._conv import register_converters as _register_converters\n"
     ]
    }
   ],
   "source": [
    "%matplotlib notebook\n",
    "from pyscf import gto, dft\n",
    "import numpy as np\n",
    "from functools import partial\n",
    "from matplotlib import pyplot as plt\n",
    "\n",
    "np.einsum = partial(np.einsum, optimize=[\"greedy\", 1024 ** 3 * 4 / 8])\n",
    "np.set_printoptions(5, linewidth=150, suppress=True)"
   ]
  },
  {
   "cell_type": "markdown",
   "metadata": {},
   "source": [
    "## Slater 交换势函数导出"
   ]
  },
  {
   "cell_type": "markdown",
   "metadata": {
    "lang": "en"
   },
   "source": [
    "Before discussing the exchange-related momentum of GGA, let's discuss a relatively simple situation, that is, the Slater functional of LDA (Local Density Approximation)."
   ]
  },
  {
   "cell_type": "markdown",
   "metadata": {
    "lang": "en"
   },
   "source": [
    "We know that for the simplest exchange-related functional, the Slater functional (although it does not contain relevant parts, but is similar from an implementation perspective), its functional form is (refer to [Wikipedia page](https:/ /en.wikipedia.org/wiki/Local-density_approximation#Exchange_functional))\n",
    "\n",
    "$$\n",
    "E_\\mathrm{x}^{\\mathsf{Slater}}[\\rho] = - \\frac{3}{4}\\left( \\frac{3}{\\pi} \\right)^{1/3} \\int\\rho(\\boldsymbol{r})^{4/3} \\, \\mathrm{d} \\boldsymbol{r}\n",
    "$$"
   ]
  },
  {
   "cell_type": "markdown",
   "metadata": {
    "lang": "en"
   },
   "source": [
    "Therefore, the exchange potential can be derived\n",
    "\n",
    "$$\n",
    "v_\\mathrm{x}^\\mathsf{Slater} (\\boldsymbol{r}) = \\frac{\\delta \\, E_\\mathrm{x}^{\\mathsf{Slater}}[\\rho]}{\\delta \\, \\rho(\\boldsymbol{r})} = - \\left( \\frac{3}{\\pi} \\right)^{1/3} \\rho(\\boldsymbol{r})^{1/3}\n",
    "$$"
   ]
  },
  {
   "cell_type": "markdown",
   "metadata": {
    "lang": "en"
   },
   "source": [
    "But the Slater functional is a kind of LDA (Local Density Approximation), and its exchange-related (although there is no relevant part) potential can be easily obtained directly through the variation of the functional; in terms of procedures, under the notation I am used to, It can also be easily obtained from (unweighted) $f_{\\rho}$. Let us take the Ne atom and the 6-311G basis set as an example, take the self-consistent field density under the Slater functional, and draw its radial lattice points:"
   ]
  },
  {
   "cell_type": "code",
   "execution_count": 2,
   "metadata": {},
   "outputs": [],
   "source": [
    "ni = dft.numint.NumInt()"
   ]
  },
  {
   "cell_type": "code",
   "execution_count": 4,
   "metadata": {},
   "outputs": [
    {
     "data": {
      "text/plain": [
       "<pyscf.gto.mole.Mole at 0x7faf8c150dd8>"
      ]
     },
     "execution_count": 4,
     "metadata": {},
     "output_type": "execute_result"
    }
   ],
   "source": [
    "mol = gto.Mole()\n",
    "mol.atom = \"\"\"Ne\"\"\"\n",
    "mol.basis = \"6-311G\"\n",
    "mol.verbose = 0\n",
    "mol.build()"
   ]
  },
  {
   "cell_type": "code",
   "execution_count": 5,
   "metadata": {},
   "outputs": [],
   "source": [
    "grids = dft.Grids(mol).build()"
   ]
  },
  {
   "cell_type": "code",
   "execution_count": 6,
   "metadata": {},
   "outputs": [
    {
     "data": {
      "text/plain": [
       "<pyscf.dft.rks.RKS at 0x7faf8c150e10>"
      ]
     },
     "execution_count": 6,
     "metadata": {},
     "output_type": "execute_result"
    }
   ],
   "source": [
    "mf = dft.RKS(mol)\n",
    "mf.xc = \"Slater\"\n",
    "mf.grids = grids\n",
    "mf.run()"
   ]
  },
  {
   "cell_type": "markdown",
   "metadata": {
    "lang": "en"
   },
   "source": [
    "-`rad_ngrid`: the number of radial grid points, used for drawing\n",
    "\n",
    "-`rad_x`: the $x$ coordinate component of the radial grid point (the distance between the grid point and the nucleus), which is generated by a geometric sequence of length 1000 from $10^{-3}$ to $10^{1}$\n",
    "\n",
    "-`rad_coord`: the three-dimensional coordinates of the radial grid point"
   ]
  },
  {
   "cell_type": "code",
   "execution_count": 7,
   "metadata": {},
   "outputs": [],
   "source": [
    "rad_ngrid = 1000\n",
    "rad_x = np.logspace(-3, 1, rad_ngrid)\n",
    "rad_coord = np.array([rad_x, np.zeros(rad_ngrid), np.zeros(rad_ngrid)]).T"
   ]
  },
  {
   "cell_type": "code",
   "execution_count": 10,
   "metadata": {},
   "outputs": [
    {
     "data": {
      "text/plain": [
       "array([[ 0.001  ,  0.     ,  0.     ],\n",
       "       [ 0.00101,  0.     ,  0.     ],\n",
       "       [ 0.00102,  0.     ,  0.     ],\n",
       "       ...,\n",
       "       [ 9.8173 ,  0.     ,  0.     ],\n",
       "       [ 9.90823,  0.     ,  0.     ],\n",
       "       [10.     ,  0.     ,  0.     ]])"
      ]
     },
     "execution_count": 10,
     "metadata": {},
     "output_type": "execute_result"
    }
   ],
   "source": [
    "rad_coord"
   ]
  },
  {
   "cell_type": "code",
   "execution_count": 62,
   "metadata": {},
   "outputs": [
    {
     "data": {
      "text/plain": [
       "(1000, 3)"
      ]
     },
     "execution_count": 62,
     "metadata": {},
     "output_type": "execute_result"
    }
   ],
   "source": [
    "rad_coord.shape"
   ]
  },
  {
   "cell_type": "markdown",
   "metadata": {
    "lang": "en"
   },
   "source": [
    "-`rad_occ_0` $\\phi_i (\\boldsymbol{r}_g)$ molecular orbital $i$ function on the grid points, obtained by $\\phi_i = \\sum_\\mu \\phi_\\mu C_{\\mu i}$\n",
    "\n",
    "-`rad_rho_0` $\\rho (\\boldsymbol{r}_g)$, but the density only represents the grid points on the radial $\\boldsymbol{r}_g = (x_g, 0, 0)$. Although the physical meaning is the same as that of `rho_0`, the latter’s grid points are full-space and can be Grid point"
   ]
  },
  {
   "cell_type": "code",
   "execution_count": 11,
   "metadata": {},
   "outputs": [],
   "source": [
    "rad_ao_0 = ni.eval_ao(mol, rad_coord, deriv=0)\n",
    "rad_rho_0 = ni.eval_rho(mol, rad_ao_0, mf.make_rdm1())"
   ]
  },
  {
   "cell_type": "code",
   "execution_count": 13,
   "metadata": {},
   "outputs": [
    {
     "data": {
      "text/plain": [
       "(1000, 13)"
      ]
     },
     "execution_count": 13,
     "metadata": {},
     "output_type": "execute_result"
    }
   ],
   "source": [
    "rad_ao_0.shape"
   ]
  },
  {
   "cell_type": "code",
   "execution_count": 14,
   "metadata": {},
   "outputs": [
    {
     "data": {
      "text/plain": [
       "(1000,)"
      ]
     },
     "execution_count": 14,
     "metadata": {},
     "output_type": "execute_result"
    }
   ],
   "source": [
    "rad_rho_0.shape"
   ]
  },
  {
   "cell_type": "markdown",
   "metadata": {
    "lang": "en"
   },
   "source": [
    "`rad_xc` represents $f_\\mathrm{\\rho}$ obtained from the PySCF program, which is defined as\n",
    "\n",
    "$$\n",
    "f_{\\rho} = \\frac{\\partial (f[\\rho] \\rho)}{\\partial \\rho}\n",
    "$$\n",
    "\n",
    "The $f[\\rho]$ in the above formula represents the functional kernel, and its definition can be seen from the following formula\n",
    "\n",
    "$$\n",
    "E_\\mathrm{xc} [\\rho] = \\int f[\\rho] \\rho(\\boldsymbol{r}) \\, \\mathrm{d} \\boldsymbol{r}\n",
    "$$\n",
    "\n",
    "Therefore, for LDA,\n",
    "\n",
    "$$\n",
    "f_{\\rho} (\\boldsymbol{r}) = \\frac{\\delta \\, E_\\mathrm{xc} [\\rho]}{\\delta \\, \\rho (\\boldsymbol{r})} = v_\\mathrm{xc} (\\boldsymbol{r})\n",
    "$$\n",
    "\n",
    "The above notation can sometimes cause confusion. For example, $f_{\\rho}$ can be used as a function of $\\boldsymbol{r}$, and its meaning is consistent with the exchange correlation potential function $v_\\mathrm{xc} (\\boldsymbol{r})$; it can also be used as a functional about $\\rho$, because for different densities, $f_{\\rho}$ is not Same; and in the program, $f_{\\rho}$ is a kind of lattice point, so it may also be used to obtain lattice point integrals. Sometimes, we abbreviate the functional kernel $f[\\rho]$ as $f$. These different symbols will play different roles in different contexts; readers may need to keep an eye on these issues. Of course, the results of the program are certain and can be used for verification.\n",
    "\n",
    "We then use `rad_xc_anal_expression`, take the exact expression of Slater exchange correlation potential, to verify that the exchange correlation potential given by the PySCF program is indeed correct:"
   ]
  },
  {
   "cell_type": "code",
   "execution_count": 15,
   "metadata": {},
   "outputs": [],
   "source": [
    "rad_xc = ni.eval_xc(\"Slater\", rad_rho_0, deriv=1)[1][0]\n",
    "rad_xc_anal_expression = - (3 / np.pi)**(1 / 3) * rad_rho_0**(1 / 3) "
   ]
  },
  {
   "cell_type": "markdown",
   "metadata": {
    "lang": "en"
   },
   "source": [
    "Below we can plot the Slater exchange correlation potential. The recurring picture mentioned in the figure refers to the article of [JCTC, 2013, 9, 3959-3964](https://dx.doi.org/10.1021/ct4004146)."
   ]
  },
  {
   "cell_type": "code",
   "execution_count": 16,
   "metadata": {},
   "outputs": [
    {
     "data": {
      "application/javascript": [
       "/* Put everything inside the global mpl namespace */\n",
       "window.mpl = {};\n",
       "\n",
       "\n",
       "mpl.get_websocket_type = function() {\n",
       "    if (typeof(WebSocket) !== 'undefined') {\n",
       "        return WebSocket;\n",
       "    } else if (typeof(MozWebSocket) !== 'undefined') {\n",
       "        return MozWebSocket;\n",
       "    } else {\n",
       "        alert('Your browser does not have WebSocket support.' +\n",
       "              'Please try Chrome, Safari or Firefox ≥ 6. ' +\n",
       "              'Firefox 4 and 5 are also supported but you ' +\n",
       "              'have to enable WebSockets in about:config.');\n",
       "    };\n",
       "}\n",
       "\n",
       "mpl.figure = function(figure_id, websocket, ondownload, parent_element) {\n",
       "    this.id = figure_id;\n",
       "\n",
       "    this.ws = websocket;\n",
       "\n",
       "    this.supports_binary = (this.ws.binaryType != undefined);\n",
       "\n",
       "    if (!this.supports_binary) {\n",
       "        var warnings = document.getElementById(\"mpl-warnings\");\n",
       "        if (warnings) {\n",
       "            warnings.style.display = 'block';\n",
       "            warnings.textContent = (\n",
       "                \"This browser does not support binary websocket messages. \" +\n",
       "                    \"Performance may be slow.\");\n",
       "        }\n",
       "    }\n",
       "\n",
       "    this.imageObj = new Image();\n",
       "\n",
       "    this.context = undefined;\n",
       "    this.message = undefined;\n",
       "    this.canvas = undefined;\n",
       "    this.rubberband_canvas = undefined;\n",
       "    this.rubberband_context = undefined;\n",
       "    this.format_dropdown = undefined;\n",
       "\n",
       "    this.image_mode = 'full';\n",
       "\n",
       "    this.root = $('<div/>');\n",
       "    this._root_extra_style(this.root)\n",
       "    this.root.attr('style', 'display: inline-block');\n",
       "\n",
       "    $(parent_element).append(this.root);\n",
       "\n",
       "    this._init_header(this);\n",
       "    this._init_canvas(this);\n",
       "    this._init_toolbar(this);\n",
       "\n",
       "    var fig = this;\n",
       "\n",
       "    this.waiting = false;\n",
       "\n",
       "    this.ws.onopen =  function () {\n",
       "            fig.send_message(\"supports_binary\", {value: fig.supports_binary});\n",
       "            fig.send_message(\"send_image_mode\", {});\n",
       "            if (mpl.ratio != 1) {\n",
       "                fig.send_message(\"set_dpi_ratio\", {'dpi_ratio': mpl.ratio});\n",
       "            }\n",
       "            fig.send_message(\"refresh\", {});\n",
       "        }\n",
       "\n",
       "    this.imageObj.onload = function() {\n",
       "            if (fig.image_mode == 'full') {\n",
       "                // Full images could contain transparency (where diff images\n",
       "                // almost always do), so we need to clear the canvas so that\n",
       "                // there is no ghosting.\n",
       "                fig.context.clearRect(0, 0, fig.canvas.width, fig.canvas.height);\n",
       "            }\n",
       "            fig.context.drawImage(fig.imageObj, 0, 0);\n",
       "        };\n",
       "\n",
       "    this.imageObj.onunload = function() {\n",
       "        fig.ws.close();\n",
       "    }\n",
       "\n",
       "    this.ws.onmessage = this._make_on_message_function(this);\n",
       "\n",
       "    this.ondownload = ondownload;\n",
       "}\n",
       "\n",
       "mpl.figure.prototype._init_header = function() {\n",
       "    var titlebar = $(\n",
       "        '<div class=\"ui-dialog-titlebar ui-widget-header ui-corner-all ' +\n",
       "        'ui-helper-clearfix\"/>');\n",
       "    var titletext = $(\n",
       "        '<div class=\"ui-dialog-title\" style=\"width: 100%; ' +\n",
       "        'text-align: center; padding: 3px;\"/>');\n",
       "    titlebar.append(titletext)\n",
       "    this.root.append(titlebar);\n",
       "    this.header = titletext[0];\n",
       "}\n",
       "\n",
       "\n",
       "\n",
       "mpl.figure.prototype._canvas_extra_style = function(canvas_div) {\n",
       "\n",
       "}\n",
       "\n",
       "\n",
       "mpl.figure.prototype._root_extra_style = function(canvas_div) {\n",
       "\n",
       "}\n",
       "\n",
       "mpl.figure.prototype._init_canvas = function() {\n",
       "    var fig = this;\n",
       "\n",
       "    var canvas_div = $('<div/>');\n",
       "\n",
       "    canvas_div.attr('style', 'position: relative; clear: both; outline: 0');\n",
       "\n",
       "    function canvas_keyboard_event(event) {\n",
       "        return fig.key_event(event, event['data']);\n",
       "    }\n",
       "\n",
       "    canvas_div.keydown('key_press', canvas_keyboard_event);\n",
       "    canvas_div.keyup('key_release', canvas_keyboard_event);\n",
       "    this.canvas_div = canvas_div\n",
       "    this._canvas_extra_style(canvas_div)\n",
       "    this.root.append(canvas_div);\n",
       "\n",
       "    var canvas = $('<canvas/>');\n",
       "    canvas.addClass('mpl-canvas');\n",
       "    canvas.attr('style', \"left: 0; top: 0; z-index: 0; outline: 0\")\n",
       "\n",
       "    this.canvas = canvas[0];\n",
       "    this.context = canvas[0].getContext(\"2d\");\n",
       "\n",
       "    var backingStore = this.context.backingStorePixelRatio ||\n",
       "\tthis.context.webkitBackingStorePixelRatio ||\n",
       "\tthis.context.mozBackingStorePixelRatio ||\n",
       "\tthis.context.msBackingStorePixelRatio ||\n",
       "\tthis.context.oBackingStorePixelRatio ||\n",
       "\tthis.context.backingStorePixelRatio || 1;\n",
       "\n",
       "    mpl.ratio = (window.devicePixelRatio || 1) / backingStore;\n",
       "\n",
       "    var rubberband = $('<canvas/>');\n",
       "    rubberband.attr('style', \"position: absolute; left: 0; top: 0; z-index: 1;\")\n",
       "\n",
       "    var pass_mouse_events = true;\n",
       "\n",
       "    canvas_div.resizable({\n",
       "        start: function(event, ui) {\n",
       "            pass_mouse_events = false;\n",
       "        },\n",
       "        resize: function(event, ui) {\n",
       "            fig.request_resize(ui.size.width, ui.size.height);\n",
       "        },\n",
       "        stop: function(event, ui) {\n",
       "            pass_mouse_events = true;\n",
       "            fig.request_resize(ui.size.width, ui.size.height);\n",
       "        },\n",
       "    });\n",
       "\n",
       "    function mouse_event_fn(event) {\n",
       "        if (pass_mouse_events)\n",
       "            return fig.mouse_event(event, event['data']);\n",
       "    }\n",
       "\n",
       "    rubberband.mousedown('button_press', mouse_event_fn);\n",
       "    rubberband.mouseup('button_release', mouse_event_fn);\n",
       "    // Throttle sequential mouse events to 1 every 20ms.\n",
       "    rubberband.mousemove('motion_notify', mouse_event_fn);\n",
       "\n",
       "    rubberband.mouseenter('figure_enter', mouse_event_fn);\n",
       "    rubberband.mouseleave('figure_leave', mouse_event_fn);\n",
       "\n",
       "    canvas_div.on(\"wheel\", function (event) {\n",
       "        event = event.originalEvent;\n",
       "        event['data'] = 'scroll'\n",
       "        if (event.deltaY < 0) {\n",
       "            event.step = 1;\n",
       "        } else {\n",
       "            event.step = -1;\n",
       "        }\n",
       "        mouse_event_fn(event);\n",
       "    });\n",
       "\n",
       "    canvas_div.append(canvas);\n",
       "    canvas_div.append(rubberband);\n",
       "\n",
       "    this.rubberband = rubberband;\n",
       "    this.rubberband_canvas = rubberband[0];\n",
       "    this.rubberband_context = rubberband[0].getContext(\"2d\");\n",
       "    this.rubberband_context.strokeStyle = \"#000000\";\n",
       "\n",
       "    this._resize_canvas = function(width, height) {\n",
       "        // Keep the size of the canvas, canvas container, and rubber band\n",
       "        // canvas in synch.\n",
       "        canvas_div.css('width', width)\n",
       "        canvas_div.css('height', height)\n",
       "\n",
       "        canvas.attr('width', width * mpl.ratio);\n",
       "        canvas.attr('height', height * mpl.ratio);\n",
       "        canvas.attr('style', 'width: ' + width + 'px; height: ' + height + 'px;');\n",
       "\n",
       "        rubberband.attr('width', width);\n",
       "        rubberband.attr('height', height);\n",
       "    }\n",
       "\n",
       "    // Set the figure to an initial 600x600px, this will subsequently be updated\n",
       "    // upon first draw.\n",
       "    this._resize_canvas(600, 600);\n",
       "\n",
       "    // Disable right mouse context menu.\n",
       "    $(this.rubberband_canvas).bind(\"contextmenu\",function(e){\n",
       "        return false;\n",
       "    });\n",
       "\n",
       "    function set_focus () {\n",
       "        canvas.focus();\n",
       "        canvas_div.focus();\n",
       "    }\n",
       "\n",
       "    window.setTimeout(set_focus, 100);\n",
       "}\n",
       "\n",
       "mpl.figure.prototype._init_toolbar = function() {\n",
       "    var fig = this;\n",
       "\n",
       "    var nav_element = $('<div/>')\n",
       "    nav_element.attr('style', 'width: 100%');\n",
       "    this.root.append(nav_element);\n",
       "\n",
       "    // Define a callback function for later on.\n",
       "    function toolbar_event(event) {\n",
       "        return fig.toolbar_button_onclick(event['data']);\n",
       "    }\n",
       "    function toolbar_mouse_event(event) {\n",
       "        return fig.toolbar_button_onmouseover(event['data']);\n",
       "    }\n",
       "\n",
       "    for(var toolbar_ind in mpl.toolbar_items) {\n",
       "        var name = mpl.toolbar_items[toolbar_ind][0];\n",
       "        var tooltip = mpl.toolbar_items[toolbar_ind][1];\n",
       "        var image = mpl.toolbar_items[toolbar_ind][2];\n",
       "        var method_name = mpl.toolbar_items[toolbar_ind][3];\n",
       "\n",
       "        if (!name) {\n",
       "            // put a spacer in here.\n",
       "            continue;\n",
       "        }\n",
       "        var button = $('<button/>');\n",
       "        button.addClass('ui-button ui-widget ui-state-default ui-corner-all ' +\n",
       "                        'ui-button-icon-only');\n",
       "        button.attr('role', 'button');\n",
       "        button.attr('aria-disabled', 'false');\n",
       "        button.click(method_name, toolbar_event);\n",
       "        button.mouseover(tooltip, toolbar_mouse_event);\n",
       "\n",
       "        var icon_img = $('<span/>');\n",
       "        icon_img.addClass('ui-button-icon-primary ui-icon');\n",
       "        icon_img.addClass(image);\n",
       "        icon_img.addClass('ui-corner-all');\n",
       "\n",
       "        var tooltip_span = $('<span/>');\n",
       "        tooltip_span.addClass('ui-button-text');\n",
       "        tooltip_span.html(tooltip);\n",
       "\n",
       "        button.append(icon_img);\n",
       "        button.append(tooltip_span);\n",
       "\n",
       "        nav_element.append(button);\n",
       "    }\n",
       "\n",
       "    var fmt_picker_span = $('<span/>');\n",
       "\n",
       "    var fmt_picker = $('<select/>');\n",
       "    fmt_picker.addClass('mpl-toolbar-option ui-widget ui-widget-content');\n",
       "    fmt_picker_span.append(fmt_picker);\n",
       "    nav_element.append(fmt_picker_span);\n",
       "    this.format_dropdown = fmt_picker[0];\n",
       "\n",
       "    for (var ind in mpl.extensions) {\n",
       "        var fmt = mpl.extensions[ind];\n",
       "        var option = $(\n",
       "            '<option/>', {selected: fmt === mpl.default_extension}).html(fmt);\n",
       "        fmt_picker.append(option)\n",
       "    }\n",
       "\n",
       "    // Add hover states to the ui-buttons\n",
       "    $( \".ui-button\" ).hover(\n",
       "        function() { $(this).addClass(\"ui-state-hover\");},\n",
       "        function() { $(this).removeClass(\"ui-state-hover\");}\n",
       "    );\n",
       "\n",
       "    var status_bar = $('<span class=\"mpl-message\"/>');\n",
       "    nav_element.append(status_bar);\n",
       "    this.message = status_bar[0];\n",
       "}\n",
       "\n",
       "mpl.figure.prototype.request_resize = function(x_pixels, y_pixels) {\n",
       "    // Request matplotlib to resize the figure. Matplotlib will then trigger a resize in the client,\n",
       "    // which will in turn request a refresh of the image.\n",
       "    this.send_message('resize', {'width': x_pixels, 'height': y_pixels});\n",
       "}\n",
       "\n",
       "mpl.figure.prototype.send_message = function(type, properties) {\n",
       "    properties['type'] = type;\n",
       "    properties['figure_id'] = this.id;\n",
       "    this.ws.send(JSON.stringify(properties));\n",
       "}\n",
       "\n",
       "mpl.figure.prototype.send_draw_message = function() {\n",
       "    if (!this.waiting) {\n",
       "        this.waiting = true;\n",
       "        this.ws.send(JSON.stringify({type: \"draw\", figure_id: this.id}));\n",
       "    }\n",
       "}\n",
       "\n",
       "\n",
       "mpl.figure.prototype.handle_save = function(fig, msg) {\n",
       "    var format_dropdown = fig.format_dropdown;\n",
       "    var format = format_dropdown.options[format_dropdown.selectedIndex].value;\n",
       "    fig.ondownload(fig, format);\n",
       "}\n",
       "\n",
       "\n",
       "mpl.figure.prototype.handle_resize = function(fig, msg) {\n",
       "    var size = msg['size'];\n",
       "    if (size[0] != fig.canvas.width || size[1] != fig.canvas.height) {\n",
       "        fig._resize_canvas(size[0], size[1]);\n",
       "        fig.send_message(\"refresh\", {});\n",
       "    };\n",
       "}\n",
       "\n",
       "mpl.figure.prototype.handle_rubberband = function(fig, msg) {\n",
       "    var x0 = msg['x0'] / mpl.ratio;\n",
       "    var y0 = (fig.canvas.height - msg['y0']) / mpl.ratio;\n",
       "    var x1 = msg['x1'] / mpl.ratio;\n",
       "    var y1 = (fig.canvas.height - msg['y1']) / mpl.ratio;\n",
       "    x0 = Math.floor(x0) + 0.5;\n",
       "    y0 = Math.floor(y0) + 0.5;\n",
       "    x1 = Math.floor(x1) + 0.5;\n",
       "    y1 = Math.floor(y1) + 0.5;\n",
       "    var min_x = Math.min(x0, x1);\n",
       "    var min_y = Math.min(y0, y1);\n",
       "    var width = Math.abs(x1 - x0);\n",
       "    var height = Math.abs(y1 - y0);\n",
       "\n",
       "    fig.rubberband_context.clearRect(\n",
       "        0, 0, fig.canvas.width, fig.canvas.height);\n",
       "\n",
       "    fig.rubberband_context.strokeRect(min_x, min_y, width, height);\n",
       "}\n",
       "\n",
       "mpl.figure.prototype.handle_figure_label = function(fig, msg) {\n",
       "    // Updates the figure title.\n",
       "    fig.header.textContent = msg['label'];\n",
       "}\n",
       "\n",
       "mpl.figure.prototype.handle_cursor = function(fig, msg) {\n",
       "    var cursor = msg['cursor'];\n",
       "    switch(cursor)\n",
       "    {\n",
       "    case 0:\n",
       "        cursor = 'pointer';\n",
       "        break;\n",
       "    case 1:\n",
       "        cursor = 'default';\n",
       "        break;\n",
       "    case 2:\n",
       "        cursor = 'crosshair';\n",
       "        break;\n",
       "    case 3:\n",
       "        cursor = 'move';\n",
       "        break;\n",
       "    }\n",
       "    fig.rubberband_canvas.style.cursor = cursor;\n",
       "}\n",
       "\n",
       "mpl.figure.prototype.handle_message = function(fig, msg) {\n",
       "    fig.message.textContent = msg['message'];\n",
       "}\n",
       "\n",
       "mpl.figure.prototype.handle_draw = function(fig, msg) {\n",
       "    // Request the server to send over a new figure.\n",
       "    fig.send_draw_message();\n",
       "}\n",
       "\n",
       "mpl.figure.prototype.handle_image_mode = function(fig, msg) {\n",
       "    fig.image_mode = msg['mode'];\n",
       "}\n",
       "\n",
       "mpl.figure.prototype.updated_canvas_event = function() {\n",
       "    // Called whenever the canvas gets updated.\n",
       "    this.send_message(\"ack\", {});\n",
       "}\n",
       "\n",
       "// A function to construct a web socket function for onmessage handling.\n",
       "// Called in the figure constructor.\n",
       "mpl.figure.prototype._make_on_message_function = function(fig) {\n",
       "    return function socket_on_message(evt) {\n",
       "        if (evt.data instanceof Blob) {\n",
       "            /* FIXME: We get \"Resource interpreted as Image but\n",
       "             * transferred with MIME type text/plain:\" errors on\n",
       "             * Chrome.  But how to set the MIME type?  It doesn't seem\n",
       "             * to be part of the websocket stream */\n",
       "            evt.data.type = \"image/png\";\n",
       "\n",
       "            /* Free the memory for the previous frames */\n",
       "            if (fig.imageObj.src) {\n",
       "                (window.URL || window.webkitURL).revokeObjectURL(\n",
       "                    fig.imageObj.src);\n",
       "            }\n",
       "\n",
       "            fig.imageObj.src = (window.URL || window.webkitURL).createObjectURL(\n",
       "                evt.data);\n",
       "            fig.updated_canvas_event();\n",
       "            fig.waiting = false;\n",
       "            return;\n",
       "        }\n",
       "        else if (typeof evt.data === 'string' && evt.data.slice(0, 21) == \"data:image/png;base64\") {\n",
       "            fig.imageObj.src = evt.data;\n",
       "            fig.updated_canvas_event();\n",
       "            fig.waiting = false;\n",
       "            return;\n",
       "        }\n",
       "\n",
       "        var msg = JSON.parse(evt.data);\n",
       "        var msg_type = msg['type'];\n",
       "\n",
       "        // Call the  \"handle_{type}\" callback, which takes\n",
       "        // the figure and JSON message as its only arguments.\n",
       "        try {\n",
       "            var callback = fig[\"handle_\" + msg_type];\n",
       "        } catch (e) {\n",
       "            console.log(\"No handler for the '\" + msg_type + \"' message type: \", msg);\n",
       "            return;\n",
       "        }\n",
       "\n",
       "        if (callback) {\n",
       "            try {\n",
       "                // console.log(\"Handling '\" + msg_type + \"' message: \", msg);\n",
       "                callback(fig, msg);\n",
       "            } catch (e) {\n",
       "                console.log(\"Exception inside the 'handler_\" + msg_type + \"' callback:\", e, e.stack, msg);\n",
       "            }\n",
       "        }\n",
       "    };\n",
       "}\n",
       "\n",
       "// from http://stackoverflow.com/questions/1114465/getting-mouse-location-in-canvas\n",
       "mpl.findpos = function(e) {\n",
       "    //this section is from http://www.quirksmode.org/js/events_properties.html\n",
       "    var targ;\n",
       "    if (!e)\n",
       "        e = window.event;\n",
       "    if (e.target)\n",
       "        targ = e.target;\n",
       "    else if (e.srcElement)\n",
       "        targ = e.srcElement;\n",
       "    if (targ.nodeType == 3) // defeat Safari bug\n",
       "        targ = targ.parentNode;\n",
       "\n",
       "    // jQuery normalizes the pageX and pageY\n",
       "    // pageX,Y are the mouse positions relative to the document\n",
       "    // offset() returns the position of the element relative to the document\n",
       "    var x = e.pageX - $(targ).offset().left;\n",
       "    var y = e.pageY - $(targ).offset().top;\n",
       "\n",
       "    return {\"x\": x, \"y\": y};\n",
       "};\n",
       "\n",
       "/*\n",
       " * return a copy of an object with only non-object keys\n",
       " * we need this to avoid circular references\n",
       " * http://stackoverflow.com/a/24161582/3208463\n",
       " */\n",
       "function simpleKeys (original) {\n",
       "  return Object.keys(original).reduce(function (obj, key) {\n",
       "    if (typeof original[key] !== 'object')\n",
       "        obj[key] = original[key]\n",
       "    return obj;\n",
       "  }, {});\n",
       "}\n",
       "\n",
       "mpl.figure.prototype.mouse_event = function(event, name) {\n",
       "    var canvas_pos = mpl.findpos(event)\n",
       "\n",
       "    if (name === 'button_press')\n",
       "    {\n",
       "        this.canvas.focus();\n",
       "        this.canvas_div.focus();\n",
       "    }\n",
       "\n",
       "    var x = canvas_pos.x * mpl.ratio;\n",
       "    var y = canvas_pos.y * mpl.ratio;\n",
       "\n",
       "    this.send_message(name, {x: x, y: y, button: event.button,\n",
       "                             step: event.step,\n",
       "                             guiEvent: simpleKeys(event)});\n",
       "\n",
       "    /* This prevents the web browser from automatically changing to\n",
       "     * the text insertion cursor when the button is pressed.  We want\n",
       "     * to control all of the cursor setting manually through the\n",
       "     * 'cursor' event from matplotlib */\n",
       "    event.preventDefault();\n",
       "    return false;\n",
       "}\n",
       "\n",
       "mpl.figure.prototype._key_event_extra = function(event, name) {\n",
       "    // Handle any extra behaviour associated with a key event\n",
       "}\n",
       "\n",
       "mpl.figure.prototype.key_event = function(event, name) {\n",
       "\n",
       "    // Prevent repeat events\n",
       "    if (name == 'key_press')\n",
       "    {\n",
       "        if (event.which === this._key)\n",
       "            return;\n",
       "        else\n",
       "            this._key = event.which;\n",
       "    }\n",
       "    if (name == 'key_release')\n",
       "        this._key = null;\n",
       "\n",
       "    var value = '';\n",
       "    if (event.ctrlKey && event.which != 17)\n",
       "        value += \"ctrl+\";\n",
       "    if (event.altKey && event.which != 18)\n",
       "        value += \"alt+\";\n",
       "    if (event.shiftKey && event.which != 16)\n",
       "        value += \"shift+\";\n",
       "\n",
       "    value += 'k';\n",
       "    value += event.which.toString();\n",
       "\n",
       "    this._key_event_extra(event, name);\n",
       "\n",
       "    this.send_message(name, {key: value,\n",
       "                             guiEvent: simpleKeys(event)});\n",
       "    return false;\n",
       "}\n",
       "\n",
       "mpl.figure.prototype.toolbar_button_onclick = function(name) {\n",
       "    if (name == 'download') {\n",
       "        this.handle_save(this, null);\n",
       "    } else {\n",
       "        this.send_message(\"toolbar_button\", {name: name});\n",
       "    }\n",
       "};\n",
       "\n",
       "mpl.figure.prototype.toolbar_button_onmouseover = function(tooltip) {\n",
       "    this.message.textContent = tooltip;\n",
       "};\n",
       "mpl.toolbar_items = [[\"Home\", \"Reset original view\", \"fa fa-home icon-home\", \"home\"], [\"Back\", \"Back to  previous view\", \"fa fa-arrow-left icon-arrow-left\", \"back\"], [\"Forward\", \"Forward to next view\", \"fa fa-arrow-right icon-arrow-right\", \"forward\"], [\"\", \"\", \"\", \"\"], [\"Pan\", \"Pan axes with left mouse, zoom with right\", \"fa fa-arrows icon-move\", \"pan\"], [\"Zoom\", \"Zoom to rectangle\", \"fa fa-square-o icon-check-empty\", \"zoom\"], [\"\", \"\", \"\", \"\"], [\"Download\", \"Download plot\", \"fa fa-floppy-o icon-save\", \"download\"]];\n",
       "\n",
       "mpl.extensions = [\"eps\", \"jpeg\", \"pdf\", \"png\", \"ps\", \"raw\", \"svg\", \"tif\"];\n",
       "\n",
       "mpl.default_extension = \"png\";var comm_websocket_adapter = function(comm) {\n",
       "    // Create a \"websocket\"-like object which calls the given IPython comm\n",
       "    // object with the appropriate methods. Currently this is a non binary\n",
       "    // socket, so there is still some room for performance tuning.\n",
       "    var ws = {};\n",
       "\n",
       "    ws.close = function() {\n",
       "        comm.close()\n",
       "    };\n",
       "    ws.send = function(m) {\n",
       "        //console.log('sending', m);\n",
       "        comm.send(m);\n",
       "    };\n",
       "    // Register the callback with on_msg.\n",
       "    comm.on_msg(function(msg) {\n",
       "        //console.log('receiving', msg['content']['data'], msg);\n",
       "        // Pass the mpl event to the overridden (by mpl) onmessage function.\n",
       "        ws.onmessage(msg['content']['data'])\n",
       "    });\n",
       "    return ws;\n",
       "}\n",
       "\n",
       "mpl.mpl_figure_comm = function(comm, msg) {\n",
       "    // This is the function which gets called when the mpl process\n",
       "    // starts-up an IPython Comm through the \"matplotlib\" channel.\n",
       "\n",
       "    var id = msg.content.data.id;\n",
       "    // Get hold of the div created by the display call when the Comm\n",
       "    // socket was opened in Python.\n",
       "    var element = $(\"#\" + id);\n",
       "    var ws_proxy = comm_websocket_adapter(comm)\n",
       "\n",
       "    function ondownload(figure, format) {\n",
       "        window.open(figure.imageObj.src);\n",
       "    }\n",
       "\n",
       "    var fig = new mpl.figure(id, ws_proxy,\n",
       "                           ondownload,\n",
       "                           element.get(0));\n",
       "\n",
       "    // Call onopen now - mpl needs it, as it is assuming we've passed it a real\n",
       "    // web socket which is closed, not our websocket->open comm proxy.\n",
       "    ws_proxy.onopen();\n",
       "\n",
       "    fig.parent_element = element.get(0);\n",
       "    fig.cell_info = mpl.find_output_cell(\"<div id='\" + id + \"'></div>\");\n",
       "    if (!fig.cell_info) {\n",
       "        console.error(\"Failed to find cell for figure\", id, fig);\n",
       "        return;\n",
       "    }\n",
       "\n",
       "    var output_index = fig.cell_info[2]\n",
       "    var cell = fig.cell_info[0];\n",
       "\n",
       "};\n",
       "\n",
       "mpl.figure.prototype.handle_close = function(fig, msg) {\n",
       "    var width = fig.canvas.width/mpl.ratio\n",
       "    fig.root.unbind('remove')\n",
       "\n",
       "    // Update the output cell to use the data from the current canvas.\n",
       "    fig.push_to_output();\n",
       "    var dataURL = fig.canvas.toDataURL();\n",
       "    // Re-enable the keyboard manager in IPython - without this line, in FF,\n",
       "    // the notebook keyboard shortcuts fail.\n",
       "    IPython.keyboard_manager.enable()\n",
       "    $(fig.parent_element).html('<img src=\"' + dataURL + '\" width=\"' + width + '\">');\n",
       "    fig.close_ws(fig, msg);\n",
       "}\n",
       "\n",
       "mpl.figure.prototype.close_ws = function(fig, msg){\n",
       "    fig.send_message('closing', msg);\n",
       "    // fig.ws.close()\n",
       "}\n",
       "\n",
       "mpl.figure.prototype.push_to_output = function(remove_interactive) {\n",
       "    // Turn the data on the canvas into data in the output cell.\n",
       "    var width = this.canvas.width/mpl.ratio\n",
       "    var dataURL = this.canvas.toDataURL();\n",
       "    this.cell_info[1]['text/html'] = '<img src=\"' + dataURL + '\" width=\"' + width + '\">';\n",
       "}\n",
       "\n",
       "mpl.figure.prototype.updated_canvas_event = function() {\n",
       "    // Tell IPython that the notebook contents must change.\n",
       "    IPython.notebook.set_dirty(true);\n",
       "    this.send_message(\"ack\", {});\n",
       "    var fig = this;\n",
       "    // Wait a second, then push the new image to the DOM so\n",
       "    // that it is saved nicely (might be nice to debounce this).\n",
       "    setTimeout(function () { fig.push_to_output() }, 1000);\n",
       "}\n",
       "\n",
       "mpl.figure.prototype._init_toolbar = function() {\n",
       "    var fig = this;\n",
       "\n",
       "    var nav_element = $('<div/>')\n",
       "    nav_element.attr('style', 'width: 100%');\n",
       "    this.root.append(nav_element);\n",
       "\n",
       "    // Define a callback function for later on.\n",
       "    function toolbar_event(event) {\n",
       "        return fig.toolbar_button_onclick(event['data']);\n",
       "    }\n",
       "    function toolbar_mouse_event(event) {\n",
       "        return fig.toolbar_button_onmouseover(event['data']);\n",
       "    }\n",
       "\n",
       "    for(var toolbar_ind in mpl.toolbar_items){\n",
       "        var name = mpl.toolbar_items[toolbar_ind][0];\n",
       "        var tooltip = mpl.toolbar_items[toolbar_ind][1];\n",
       "        var image = mpl.toolbar_items[toolbar_ind][2];\n",
       "        var method_name = mpl.toolbar_items[toolbar_ind][3];\n",
       "\n",
       "        if (!name) { continue; };\n",
       "\n",
       "        var button = $('<button class=\"btn btn-default\" href=\"#\" title=\"' + name + '\"><i class=\"fa ' + image + ' fa-lg\"></i></button>');\n",
       "        button.click(method_name, toolbar_event);\n",
       "        button.mouseover(tooltip, toolbar_mouse_event);\n",
       "        nav_element.append(button);\n",
       "    }\n",
       "\n",
       "    // Add the status bar.\n",
       "    var status_bar = $('<span class=\"mpl-message\" style=\"text-align:right; float: right;\"/>');\n",
       "    nav_element.append(status_bar);\n",
       "    this.message = status_bar[0];\n",
       "\n",
       "    // Add the close button to the window.\n",
       "    var buttongrp = $('<div class=\"btn-group inline pull-right\"></div>');\n",
       "    var button = $('<button class=\"btn btn-mini btn-primary\" href=\"#\" title=\"Stop Interaction\"><i class=\"fa fa-power-off icon-remove icon-large\"></i></button>');\n",
       "    button.click(function (evt) { fig.handle_close(fig, {}); } );\n",
       "    button.mouseover('Stop Interaction', toolbar_mouse_event);\n",
       "    buttongrp.append(button);\n",
       "    var titlebar = this.root.find($('.ui-dialog-titlebar'));\n",
       "    titlebar.prepend(buttongrp);\n",
       "}\n",
       "\n",
       "mpl.figure.prototype._root_extra_style = function(el){\n",
       "    var fig = this\n",
       "    el.on(\"remove\", function(){\n",
       "\tfig.close_ws(fig, {});\n",
       "    });\n",
       "}\n",
       "\n",
       "mpl.figure.prototype._canvas_extra_style = function(el){\n",
       "    // this is important to make the div 'focusable\n",
       "    el.attr('tabindex', 0)\n",
       "    // reach out to IPython and tell the keyboard manager to turn it's self\n",
       "    // off when our div gets focus\n",
       "\n",
       "    // location in version 3\n",
       "    if (IPython.notebook.keyboard_manager) {\n",
       "        IPython.notebook.keyboard_manager.register_events(el);\n",
       "    }\n",
       "    else {\n",
       "        // location in version 2\n",
       "        IPython.keyboard_manager.register_events(el);\n",
       "    }\n",
       "\n",
       "}\n",
       "\n",
       "mpl.figure.prototype._key_event_extra = function(event, name) {\n",
       "    var manager = IPython.notebook.keyboard_manager;\n",
       "    if (!manager)\n",
       "        manager = IPython.keyboard_manager;\n",
       "\n",
       "    // Check for shift+enter\n",
       "    if (event.shiftKey && event.which == 13) {\n",
       "        this.canvas_div.blur();\n",
       "        event.shiftKey = false;\n",
       "        // Send a \"J\" for go to next cell\n",
       "        event.which = 74;\n",
       "        event.keyCode = 74;\n",
       "        manager.command_mode();\n",
       "        manager.handle_keydown(event);\n",
       "    }\n",
       "}\n",
       "\n",
       "mpl.figure.prototype.handle_save = function(fig, msg) {\n",
       "    fig.ondownload(fig, null);\n",
       "}\n",
       "\n",
       "\n",
       "mpl.find_output_cell = function(html_output) {\n",
       "    // Return the cell and output element which can be found *uniquely* in the notebook.\n",
       "    // Note - this is a bit hacky, but it is done because the \"notebook_saving.Notebook\"\n",
       "    // IPython event is triggered only after the cells have been serialised, which for\n",
       "    // our purposes (turning an active figure into a static one), is too late.\n",
       "    var cells = IPython.notebook.get_cells();\n",
       "    var ncells = cells.length;\n",
       "    for (var i=0; i<ncells; i++) {\n",
       "        var cell = cells[i];\n",
       "        if (cell.cell_type === 'code'){\n",
       "            for (var j=0; j<cell.output_area.outputs.length; j++) {\n",
       "                var data = cell.output_area.outputs[j];\n",
       "                if (data.data) {\n",
       "                    // IPython >= 3 moved mimebundle to data attribute of output\n",
       "                    data = data.data;\n",
       "                }\n",
       "                if (data['text/html'] == html_output) {\n",
       "                    return [cell, data, j];\n",
       "                }\n",
       "            }\n",
       "        }\n",
       "    }\n",
       "}\n",
       "\n",
       "// Register the function which deals with the matplotlib target/channel.\n",
       "// The kernel may be null if the page has been refreshed.\n",
       "if (IPython.notebook.kernel != null) {\n",
       "    IPython.notebook.kernel.comm_manager.register_target('matplotlib', mpl.mpl_figure_comm);\n",
       "}\n"
      ],
      "text/plain": [
       "<IPython.core.display.Javascript object>"
      ]
     },
     "metadata": {},
     "output_type": "display_data"
    },
    {
     "data": {
      "text/html": [
       "<img src=\"data:image/png;base64,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\" width=\"400\">"
      ],
      "text/plain": [
       "<IPython.core.display.HTML object>"
      ]
     },
     "metadata": {},
     "output_type": "display_data"
    }
   ],
   "source": [
    "fig, ax = plt.subplots(figsize=(4, 3))\n",
    "ax.plot(rad_x, rad_xc, label=\"PySCF approach\")\n",
    "ax.plot(rad_x, rad_xc_anal_expression, linestyle=\":\", linewidth=5, label=\"anal expression\")\n",
    "ax.set_xscale(\"log\"), ax.legend(loc=\"upper left\")\n",
    "ax.set_xlim(1e-3, 1e1), ax.set_ylim(-9, 1)\n",
    "ax.set_xlabel(r\"$r$ (Bohr)\")\n",
    "ax.set_ylabel(r\"$v_\\mathrm{x}^\\mathsf{Slater} (r)$ (Hartree)\")\n",
    "ax.set_title(\"Reproduction of Figure 1\")\n",
    "fig.tight_layout()"
   ]
  },
  {
   "cell_type": "markdown",
   "metadata": {
    "lang": "en"
   },
   "source": [
    "## PBE exchange related potential derivation"
   ]
  },
  {
   "cell_type": "markdown",
   "metadata": {
    "lang": "en"
   },
   "source": [
    "### Verification of exchange correlation potential matrix"
   ]
  },
  {
   "cell_type": "markdown",
   "metadata": {
    "lang": "en"
   },
   "source": [
    "But the same approach cannot be used in PBE functionals (or in general, pure GGA functionals). For the $v_{\\mu \\nu}^\\mathrm{xc} [\\rho] = \\langle \\mu | \\hat v_\\mathrm{xc} | \\nu \\rangle$ exchange correlation potential matrix used in quantification, we used to read the [pyxdh document](https://py-xdh.readthedocs.io/zh_CN/latest/qcbasic/basic_gga. html#%E4%BB%BB%E5%8A%A1-(3.3)-%E5%8F%AF%E9%80%89) has made a more detailed derivation in the task (3.3), here is the expression formula:\n",
    "\n",
    "$$\n",
    "\\begin{align}\n",
    "v_{\\mu \\nu}^\\mathrm{xc} [\\rho] &= \\sum_r \\int \\big[ f_\\rho \\phi_\\mu \\phi_\\nu + 2 f_\\gamma \\rho_r (\\phi_{r \\mu} \\phi_{\\nu} + \\phi_{\\mu} \\phi_{r \\nu}) \\big] \\, \\mathrm{d} \\boldsymbol{r} \\\\\n",
    "&= \\langle \\mu | f_\\rho | \\nu \\rangle + 2 \\sum_r \\langle \\mu_r | f_\\gamma \\rho_r | \\nu \\rangle + 2 \\sum_r \\langle \\mu | f_\\gamma \\rho_r | \\nu_r \\rangle\n",
    "\\end{align}\n",
    "$$"
   ]
  },
  {
   "cell_type": "markdown",
   "metadata": {
    "lang": "en"
   },
   "source": [
    "Among them, the above formula\n",
    "\n",
    "$$\n",
    "\\begin{align}\n",
    "f_\\gamma = \\frac{\\partial (f \\rho)}{\\partial \\gamma}, \\quad \\rho_r = \\frac{\\partial \\rho}{\\partial r}, \\quad \\mu_r = \\frac{\\partial \\mu}{\\partial r}\n",
    "\\end{align}\n",
    "$$"
   ]
  },
  {
   "cell_type": "markdown",
   "metadata": {
    "lang": "en"
   },
   "source": [
    "In the above formula, italics (not bold italics) $r$ or $w$ that will appear after represent a coordinate component of the three-dimensional electronic coordinate $\\boldsymbol{r}$. If you use a more common way of writing, there are\n",
    "\n",
    "$$\n",
    "v_{\\mu \\nu}^\\mathrm{xc} [\\rho] = \\langle \\mu | f_\\rho | \\nu \\rangle + 2 \\langle \\nabla \\mu | f_\\gamma \\nabla \\rho | \\nu \\rangle + 2 \\langle \\mu | f_\\gamma \\nabla \\rho | \\nabla \\nu \\rangle\n",
    "$$"
   ]
  },
  {
   "cell_type": "markdown",
   "metadata": {
    "lang": "en"
   },
   "source": [
    "The two $\\nabla$ gradient symbols in the above formula are calculated using the dot product inner product. We might as well use the program to verify the correctness of the above formula. We first use the PBE functional to calculate the self-consistent field process again:"
   ]
  },
  {
   "cell_type": "code",
   "execution_count": 17,
   "metadata": {},
   "outputs": [
    {
     "data": {
      "text/plain": [
       "<pyscf.dft.rks.RKS at 0x7faf4c4f7d30>"
      ]
     },
     "execution_count": 17,
     "metadata": {},
     "output_type": "execute_result"
    }
   ],
   "source": [
    "mf = dft.RKS(mol)\n",
    "mf.xc = \"PBE\"\n",
    "mf.grids = grids\n",
    "mf.run()"
   ]
  },
  {
   "cell_type": "markdown",
   "metadata": {
    "lang": "en"
   },
   "source": [
    "-`C` $C_{\\mu p}$ molecular orbital coefficient matrix\n",
    "\n",
    "-`D` $D_{\\mu \\nu}$ electron density matrix"
   ]
  },
  {
   "cell_type": "code",
   "execution_count": 18,
   "metadata": {},
   "outputs": [],
   "source": [
    "C = mf.mo_coeff\n",
    "D = mf.make_rdm1()"
   ]
  },
  {
   "cell_type": "code",
   "execution_count": 19,
   "metadata": {},
   "outputs": [
    {
     "data": {
      "text/plain": [
       "(13, 13)"
      ]
     },
     "execution_count": 19,
     "metadata": {},
     "output_type": "execute_result"
    }
   ],
   "source": [
    "C.shape"
   ]
  },
  {
   "cell_type": "code",
   "execution_count": 20,
   "metadata": {},
   "outputs": [
    {
     "data": {
      "text/plain": [
       "(13, 13)"
      ]
     },
     "execution_count": 20,
     "metadata": {},
     "output_type": "execute_result"
    }
   ],
   "source": [
    "D.shape"
   ]
  },
  {
   "cell_type": "markdown",
   "metadata": {
    "lang": "en"
   },
   "source": [
    "-ʻAo_0` $\\phi_\\mu$, ʻao_1` $\\phi_{r \\mu} = \\partial_r \\phi_\\mu$, ʻao_2` $\\phi_{rw \\mu} = \\partial_r \\partial_w \\phi_\\mu$ are the atomic orbital function lattice points and their derivatives"
   ]
  },
  {
   "cell_type": "code",
   "execution_count": 21,
   "metadata": {},
   "outputs": [],
   "source": [
    "ao = ni.eval_ao(mol, grids.coords, deriv=2)\n",
    "ao_0, ao_1 = ao[0], ao[1:4]\n",
    "ao_2 = np.array([\n",
    "    [ao[4], ao[5], ao[6]],\n",
    "    [ao[5], ao[7], ao[8]],\n",
    "    [ao[6], ao[8], ao[9]],\n",
    "])"
   ]
  },
  {
   "cell_type": "code",
   "execution_count": 22,
   "metadata": {},
   "outputs": [
    {
     "data": {
      "text/plain": [
       "(10, 12066, 13)"
      ]
     },
     "execution_count": 22,
     "metadata": {},
     "output_type": "execute_result"
    }
   ],
   "source": [
    "ao.shape"
   ]
  },
  {
   "cell_type": "code",
   "execution_count": 23,
   "metadata": {},
   "outputs": [
    {
     "data": {
      "text/plain": [
       "(12066, 13)"
      ]
     },
     "execution_count": 23,
     "metadata": {},
     "output_type": "execute_result"
    }
   ],
   "source": [
    "ao_0.shape"
   ]
  },
  {
   "cell_type": "code",
   "execution_count": 24,
   "metadata": {},
   "outputs": [
    {
     "data": {
      "text/plain": [
       "(3, 12066, 13)"
      ]
     },
     "execution_count": 24,
     "metadata": {},
     "output_type": "execute_result"
    }
   ],
   "source": [
    "ao_1.shape"
   ]
  },
  {
   "cell_type": "code",
   "execution_count": 36,
   "metadata": {},
   "outputs": [
    {
     "data": {
      "text/plain": [
       "(3, 3, 12066, 13)"
      ]
     },
     "execution_count": 36,
     "metadata": {},
     "output_type": "execute_result"
    }
   ],
   "source": [
    "ao_2.shape"
   ]
  },
  {
   "cell_type": "markdown",
   "metadata": {
    "lang": "en"
   },
   "source": [
    "-`rho_0` $\\rho$, `rho_1` $\\rho_r = \\partial_r \\rho$, `rho_2` $\\rho_{rw} = \\partial_r \\partial_w \\rho$ are the electronic density of states grid points"
   ]
  },
  {
   "cell_type": "code",
   "execution_count": 25,
   "metadata": {},
   "outputs": [],
   "source": [
    "rho_0 = np.einsum(\"gu, gv, uv -> g\", ao_0, ao_0, D)\n",
    "rho_1 = 2 * np.einsum(\"rgu, gv, uv -> rg\", ao_1, ao_0, D)\n",
    "rho_2 = (\n",
    "    + 2 * np.einsum(\"rwgu, gv, uv -> rwg\", ao_2, ao_0, D)\n",
    "    + 2 * np.einsum(\"rgu, wgv, uv -> rwg\", ao_1, ao_1, D)\n",
    ")"
   ]
  },
  {
   "cell_type": "code",
   "execution_count": 26,
   "metadata": {},
   "outputs": [
    {
     "data": {
      "text/plain": [
       "(12066,)"
      ]
     },
     "execution_count": 26,
     "metadata": {},
     "output_type": "execute_result"
    }
   ],
   "source": [
    "rho_0.shape"
   ]
  },
  {
   "cell_type": "code",
   "execution_count": 35,
   "metadata": {},
   "outputs": [
    {
     "data": {
      "text/plain": [
       "(3, 12066)"
      ]
     },
     "execution_count": 35,
     "metadata": {},
     "output_type": "execute_result"
    }
   ],
   "source": [
    "rho_1.shape"
   ]
  },
  {
   "cell_type": "code",
   "execution_count": 34,
   "metadata": {},
   "outputs": [
    {
     "data": {
      "text/plain": [
       "(3, 3, 12066)"
      ]
     },
     "execution_count": 34,
     "metadata": {},
     "output_type": "execute_result"
    }
   ],
   "source": [
    "rho_2.shape"
   ]
  },
  {
   "cell_type": "markdown",
   "metadata": {},
   "source": [
    "- `gamma_0` $\\gamma = \\nabla \\rho \\cdot \\nabla \\rho$, `gamma_1` $\\gamma_r = \\partial_r \\gamma$"
   ]
  },
  {
   "cell_type": "code",
   "execution_count": 37,
   "metadata": {},
   "outputs": [],
   "source": [
    "gamma_0 = np.einsum(\"rg, rg -> g\", rho_1, rho_1)\n",
    "gamma_1 =  2 * np.einsum(\"rwg, wg -> rg\", rho_2, rho_1)"
   ]
  },
  {
   "cell_type": "code",
   "execution_count": 38,
   "metadata": {},
   "outputs": [
    {
     "data": {
      "text/plain": [
       "(12066,)"
      ]
     },
     "execution_count": 38,
     "metadata": {},
     "output_type": "execute_result"
    }
   ],
   "source": [
    "gamma_0.shape"
   ]
  },
  {
   "cell_type": "code",
   "execution_count": 39,
   "metadata": {},
   "outputs": [
    {
     "data": {
      "text/plain": [
       "(3, 12066)"
      ]
     },
     "execution_count": 39,
     "metadata": {},
     "output_type": "execute_result"
    }
   ],
   "source": [
    "gamma_1.shape"
   ]
  },
  {
   "cell_type": "markdown",
   "metadata": {
    "lang": "en"
   },
   "source": [
    "-`fr` $f_\\rho$, `fg` $f_\\gamma$, `frr` $f_{\\rho \\rho}$, `frg` $f_{\\rho \\gamma}$, `fgg` $f_{\\gamma \\gamma}$ represent the derivation of the functional kernel and density product $f \\rho$, the subscript represents the derivation object"
   ]
  },
  {
   "cell_type": "code",
   "execution_count": 40,
   "metadata": {},
   "outputs": [],
   "source": [
    "_, vxc, fxc, _ = ni.eval_xc(\"PBE, PBE\", np.concatenate([rho_0[None, :], rho_1]), deriv=2)\n",
    "fr, fg = vxc[:2]\n",
    "frr, frg, fgg = fxc[:3]"
   ]
  },
  {
   "cell_type": "markdown",
   "metadata": {
    "lang": "en"
   },
   "source": [
    "Then, the exchange correlation matrix $v_{\\mu \\nu}^\\mathrm{xc}$ can be expressed by `Vxc`:"
   ]
  },
  {
   "cell_type": "code",
   "execution_count": 41,
   "metadata": {},
   "outputs": [],
   "source": [
    "Vxc = (\n",
    "    + np.einsum(\"g, g, gu, gv -> uv\", grids.weights, fr, ao_0, ao_0)\n",
    "    + 2 * np.einsum(\"g, g, rg, rgu, gv -> uv\", grids.weights, fg, rho_1, ao_1, ao_0)\n",
    "    + 2 * np.einsum(\"g, g, rg, gu, rgv -> uv\", grids.weights, fg, rho_1, ao_0, ao_1)\n",
    ")"
   ]
  },
  {
   "cell_type": "code",
   "execution_count": 42,
   "metadata": {},
   "outputs": [
    {
     "data": {
      "text/plain": [
       "(13, 13)"
      ]
     },
     "execution_count": 42,
     "metadata": {},
     "output_type": "execute_result"
    }
   ],
   "source": [
    "Vxc.shape"
   ]
  },
  {
   "cell_type": "markdown",
   "metadata": {
    "lang": "en"
   },
   "source": [
    "The method of verifying `Vxc` $v_{\\mu \\nu}^\\mathrm{xc}$ can be to generate the Fock matrix under the molecular orbital. We know that the Fock matrix of Canonical RKS is diagonal. We use this property to verify:"
   ]
  },
  {
   "cell_type": "code",
   "execution_count": 17,
   "metadata": {},
   "outputs": [],
   "source": [
    "F = (\n",
    "    + np.einsum(\"uv, up, vq -> pq\", mol.intor(\"int1e_kin\"), C, C)\n",
    "    + np.einsum(\"uv, up, vq -> pq\", mol.intor(\"int1e_nuc\"), C, C)\n",
    "    + np.einsum(\"uvkl, kl, up, vq -> pq\", mol.intor(\"int2e\"), D, C, C)\n",
    "    + np.einsum(\"uv, up, vq -> pq\", Vxc, C, C)\n",
    ")"
   ]
  },
  {
   "cell_type": "markdown",
   "metadata": {
    "lang": "en"
   },
   "source": [
    "For the aesthetics of the document, we only show the Fock matrix that occupies the track part; if the reader executes the code by himself, it is not difficult to verify that the other parts also follow the diagonal matrix."
   ]
  },
  {
   "cell_type": "code",
   "execution_count": 18,
   "metadata": {},
   "outputs": [
    {
     "data": {
      "text/plain": [
       "array([[-30.44674,  -0.     ,   0.     ,   0.     ,   0.     ],\n",
       "       [ -0.     ,  -1.30498,  -0.     ,  -0.     ,  -0.     ],\n",
       "       [  0.     ,  -0.     ,  -0.46122,  -0.     ,   0.     ],\n",
       "       [  0.     ,  -0.     ,  -0.     ,  -0.46122,   0.     ],\n",
       "       [ -0.     ,  -0.     ,  -0.     ,   0.     ,  -0.46122]])"
      ]
     },
     "execution_count": 18,
     "metadata": {},
     "output_type": "execute_result"
    }
   ],
   "source": [
    "F[:5, :5]"
   ]
  },
  {
   "cell_type": "markdown",
   "metadata": {
    "lang": "en"
   },
   "source": [
    "### Exchange correlation potential as the derivation of the radial function"
   ]
  },
  {
   "cell_type": "markdown",
   "metadata": {
    "lang": "en"
   },
   "source": [
    "Let us review the calculation of the exchange correlation potential:\n",
    "\n",
    "$$\n",
    "v_{\\mu \\nu}^\\mathrm{xc} [\\rho] = \\langle \\mu | f_\\rho | \\nu \\rangle + 2 \\langle \\nabla \\mu | f_\\gamma \\nabla \\rho | \\nu \\rangle + 2 \\langle \\mu | f_\\gamma \\nabla \\rho | \\nabla \\nu \\rangle\n",
    "$$"
   ]
  },
  {
   "cell_type": "markdown",
   "metadata": {
    "lang": "en"
   },
   "source": [
    "But from the above style, from the above style we may be able to write less rigorously\n",
    "\n",
    "$$\n",
    "\\hat v_\\mathrm{xc} = f_\\rho + 2 f_\\gamma \\nabla \\rho \\cdot \\nabla + 2 \\nabla {\\square} \\cdot f_\\gamma \\nabla \\rho\n",
    "$$"
   ]
  },
  {
   "cell_type": "markdown",
   "metadata": {
    "lang": "en"
   },
   "source": [
    "But we can't get the information of $v_\\mathrm{xc} (\\boldsymbol{r})$ directly from the above expression. For this, we need to rearrange the above formula as\n",
    "\n",
    "$$\n",
    "v_{\\mu \\nu}^\\mathrm{xc} [\\rho] = \\langle \\mu | f_\\rho | \\nu \\rangle + 2 \\langle f_\\gamma \\nabla \\rho | \\nabla (\\mu \\nu) \\rangle\n",
    "$$"
   ]
  },
  {
   "cell_type": "markdown",
   "metadata": {
    "lang": "en"
   },
   "source": [
    "For the second term on the right side of the above equation, we can use Gauss theorem (similar to partial integration) and the nature of the wave function itself at infinity to transform it\n",
    "\n",
    "$$\n",
    "\\begin{align}\n",
    "2 \\langle f_\\gamma \\nabla \\rho | \\nabla (\\mu \\nu) \\rangle &= 2 \\int f_\\gamma \\nabla \\rho \\cdot \\nabla (\\phi_\\mu \\phi_\\nu) \\, \\mathrm{d} \\boldsymbol{r} \\\\\n",
    "&= 2 \\int_{\\Sigma} \\nabla \\cdot (\\phi_\\mu \\phi_\\nu f_\\gamma \\nabla \\rho) \\, \\mathrm{d} \\boldsymbol{\\Sigma} - 2 \\int \\phi_\\mu \\phi_\\nu \\nabla \\cdot (f_\\gamma \\nabla \\rho) \\, \\mathrm{d} \\boldsymbol{r} \\\\\n",
    "&= 0 - 2 \\int \\phi_\\mu \\phi_\\nu \\big[ f_{\\rho \\gamma} \\nabla \\rho \\cdot \\nabla \\rho + f_{\\gamma \\gamma} \\nabla \\gamma \\cdot \\nabla \\rho + f_\\gamma \\nabla^2 \\rho \\big] \\, \\mathrm{d} \\boldsymbol{r}\n",
    "\\end{align}\n",
    "$$"
   ]
  },
  {
   "cell_type": "markdown",
   "metadata": {
    "lang": "en"
   },
   "source": [
    "In the above formula, the surface referred to by $\\Sigma$ is a simply connected surface extending to infinity. According to the characteristics of the wave function, the value of one term of the second type surface integral containing $\\mathrm{d} \\boldsymbol{\\Sigma}$ in the above formula is zero."
   ]
  },
  {
   "cell_type": "markdown",
   "metadata": {
    "lang": "en"
   },
   "source": [
    "We can use the conclusion of the above formula to generate `Vxc_`, and verify with `Vxc` to check whether it is correct:"
   ]
  },
  {
   "cell_type": "code",
   "execution_count": 43,
   "metadata": {},
   "outputs": [],
   "source": [
    "Vxc_ = (\n",
    "    + np.einsum(\"g, gu, gv, g -> uv\", grids.weights, ao_0, ao_0, fr)\n",
    "    - 2 * np.einsum(\"g, gu, gv, g, rg, rg -> uv\", grids.weights, ao_0, ao_0, frg, rho_1, rho_1)\n",
    "    - 2 * np.einsum(\"g, gu, gv, g, rg, rg -> uv\", grids.weights, ao_0, ao_0, fgg, gamma_1, rho_1)\n",
    "    - 2 * np.einsum(\"g, gu, gv, g, gr -> uv\", grids.weights, ao_0, ao_0, fg, rho_2.diagonal())\n",
    ")"
   ]
  },
  {
   "cell_type": "code",
   "execution_count": 45,
   "metadata": {},
   "outputs": [
    {
     "data": {
      "text/plain": [
       "(13, 13)"
      ]
     },
     "execution_count": 45,
     "metadata": {},
     "output_type": "execute_result"
    }
   ],
   "source": [
    "Vxc_.shape"
   ]
  },
  {
   "cell_type": "code",
   "execution_count": 44,
   "metadata": {},
   "outputs": [
    {
     "data": {
      "text/plain": [
       "True"
      ]
     },
     "execution_count": 44,
     "metadata": {},
     "output_type": "execute_result"
    }
   ],
   "source": [
    "np.allclose(Vxc, Vxc_)"
   ]
  },
  {
   "cell_type": "markdown",
   "metadata": {
    "lang": "en"
   },
   "source": [
    "Therefore, the above-mentioned derivation and procedures are confirmed. We can write\n",
    "\n",
    "$$\n",
    "\\begin{align}\n",
    "v_{\\mu \\nu}^\\mathrm{xc} [\\rho] &= \\langle \\mu | f_\\rho | \\nu \\rangle + 2 \\langle \\nabla \\mu | f_\\gamma \\nabla \\rho | \\nu \\rangle + 2 \\langle \\mu | f_\\gamma \\nabla \\rho | \\nabla \\nu \\rangle \\\\\n",
    "&= \\langle \\mu | f_\\rho - 2 f_{\\rho \\gamma} \\nabla \\rho \\cdot \\nabla \\rho - 2 f_{\\gamma \\gamma} \\nabla \\gamma \\cdot \\nabla \\rho - 2 f_\\gamma \\nabla^2 \\rho | \\nu \\rangle\n",
    "\\end{align}\n",
    "$$"
   ]
  },
  {
   "cell_type": "markdown",
   "metadata": {
    "lang": "en"
   },
   "source": [
    "Therefore, it can be written naturally now that the exchange correlation potential as a function of electronic coordinates can be written as\n",
    "\n",
    "$$\n",
    "\\hat v_\\mathrm{xc} = v_\\mathrm{xc} (\\boldsymbol{r}) = f_\\rho - 2 f_{\\rho \\gamma} \\nabla \\rho \\cdot \\nabla \\rho - 2 f_{\\gamma \\gamma} \\nabla \\gamma \\cdot \\nabla \\rho - 2 f_\\gamma \\nabla^2 \\rho\n",
    "$$"
   ]
  },
  {
   "cell_type": "markdown",
   "metadata": {
    "lang": "en"
   },
   "source": [
    "It should be noted that this is the case for GGA. For LDA (like the Slater functional discussed at the beginning), since $f \\rho$ is not a functional of $\\gamma = \\nabla \\rho \\cdot \\nabla \\rho$, it will naturally degenerate into $v_\\mathrm{xc}^\\mathsf{GGA} (\\boldsymbol{r}) = f_\\rho$."
   ]
  },
  {
   "cell_type": "markdown",
   "metadata": {
    "lang": "en"
   },
   "source": [
    "### Ne atom 6-311G PBE exchange correlation potential under basis set: image rendering"
   ]
  },
  {
   "cell_type": "markdown",
   "metadata": {
    "lang": "en"
   },
   "source": [
    "Now that we have verified the correctness and feasibility of obtaining the exchange correlation potential above, we may as well plot the exchange correlation potential at the distance from Ne atom $10^{-2}$ to $10^{1}$ Bohr. The following code is no longer explained, and its meaning is believed to have been described above enough."
   ]
  },
  {
   "cell_type": "code",
   "execution_count": 46,
   "metadata": {},
   "outputs": [],
   "source": [
    "rad_ao = ni.eval_ao(mol, rad_coord, deriv=2)\n",
    "rad_ao_0, rad_ao_1 = rad_ao[0], rad_ao[1:4]\n",
    "rad_ao_2 = np.array([\n",
    "    [rad_ao[4], rad_ao[5], rad_ao[6]],\n",
    "    [rad_ao[5], rad_ao[7], rad_ao[8]],\n",
    "    [rad_ao[6], rad_ao[8], rad_ao[9]],\n",
    "])"
   ]
  },
  {
   "cell_type": "code",
   "execution_count": 48,
   "metadata": {},
   "outputs": [
    {
     "data": {
      "text/plain": [
       "(10, 1000, 13)"
      ]
     },
     "execution_count": 48,
     "metadata": {},
     "output_type": "execute_result"
    }
   ],
   "source": [
    "rad_ao.shape"
   ]
  },
  {
   "cell_type": "code",
   "execution_count": 49,
   "metadata": {},
   "outputs": [
    {
     "data": {
      "text/plain": [
       "(1000, 13)"
      ]
     },
     "execution_count": 49,
     "metadata": {},
     "output_type": "execute_result"
    }
   ],
   "source": [
    "rad_ao_0.shape"
   ]
  },
  {
   "cell_type": "code",
   "execution_count": 50,
   "metadata": {},
   "outputs": [
    {
     "data": {
      "text/plain": [
       "(3, 1000, 13)"
      ]
     },
     "execution_count": 50,
     "metadata": {},
     "output_type": "execute_result"
    }
   ],
   "source": [
    "rad_ao_1.shape"
   ]
  },
  {
   "cell_type": "code",
   "execution_count": 51,
   "metadata": {},
   "outputs": [
    {
     "data": {
      "text/plain": [
       "(3, 3, 1000, 13)"
      ]
     },
     "execution_count": 51,
     "metadata": {},
     "output_type": "execute_result"
    }
   ],
   "source": [
    "rad_ao_2.shape"
   ]
  },
  {
   "cell_type": "code",
   "execution_count": 52,
   "metadata": {},
   "outputs": [],
   "source": [
    "rad_rho_0 = np.einsum(\"gu, gv, uv -> g\", rad_ao_0, rad_ao_0, D)\n",
    "rad_rho_1 = 2 * np.einsum(\"rgu, gv, uv -> rg\", rad_ao_1, rad_ao_0, D)\n",
    "rad_rho_2 = (\n",
    "    + 2 * np.einsum(\"rwgu, gv, uv -> rwg\", rad_ao_2, rad_ao_0, D)\n",
    "    + 2 * np.einsum(\"rgu, wgv, uv -> rwg\", rad_ao_1, rad_ao_1, D)\n",
    ")"
   ]
  },
  {
   "cell_type": "code",
   "execution_count": 53,
   "metadata": {},
   "outputs": [
    {
     "data": {
      "text/plain": [
       "(1000,)"
      ]
     },
     "execution_count": 53,
     "metadata": {},
     "output_type": "execute_result"
    }
   ],
   "source": [
    "rad_rho_0.shape"
   ]
  },
  {
   "cell_type": "code",
   "execution_count": 54,
   "metadata": {},
   "outputs": [
    {
     "data": {
      "text/plain": [
       "(3, 1000)"
      ]
     },
     "execution_count": 54,
     "metadata": {},
     "output_type": "execute_result"
    }
   ],
   "source": [
    "rad_rho_1.shape"
   ]
  },
  {
   "cell_type": "code",
   "execution_count": 55,
   "metadata": {},
   "outputs": [
    {
     "data": {
      "text/plain": [
       "(3, 3, 1000)"
      ]
     },
     "execution_count": 55,
     "metadata": {},
     "output_type": "execute_result"
    }
   ],
   "source": [
    "rad_rho_2.shape"
   ]
  },
  {
   "cell_type": "code",
   "execution_count": 56,
   "metadata": {},
   "outputs": [],
   "source": [
    "rad_gamma_0 = np.einsum(\"rg, rg -> g\", rad_rho_1, rad_rho_1)\n",
    "rad_gamma_1 =  2 * np.einsum(\"rwg, wg -> rg\", rad_rho_2, rad_rho_1)"
   ]
  },
  {
   "cell_type": "code",
   "execution_count": 57,
   "metadata": {},
   "outputs": [
    {
     "data": {
      "text/plain": [
       "(1000,)"
      ]
     },
     "execution_count": 57,
     "metadata": {},
     "output_type": "execute_result"
    }
   ],
   "source": [
    "rad_gamma_0.shape"
   ]
  },
  {
   "cell_type": "code",
   "execution_count": 58,
   "metadata": {},
   "outputs": [
    {
     "data": {
      "text/plain": [
       "(3, 1000)"
      ]
     },
     "execution_count": 58,
     "metadata": {},
     "output_type": "execute_result"
    }
   ],
   "source": [
    "rad_gamma_1.shape"
   ]
  },
  {
   "cell_type": "code",
   "execution_count": 59,
   "metadata": {},
   "outputs": [],
   "source": [
    "_, rad_vxc, rad_fxc, _ = ni.eval_xc(\"PBE, PBE\", np.concatenate([rad_rho_0[None, :], rad_rho_1]), deriv=2)\n",
    "rad_fr, rad_fg = rad_vxc[:2]\n",
    "rad_frr, rad_frg, rad_fgg = rad_fxc[:3]"
   ]
  },
  {
   "cell_type": "code",
   "execution_count": 60,
   "metadata": {},
   "outputs": [],
   "source": [
    "rad_xc = (\n",
    "    + rad_fr\n",
    "    - 2 * np.einsum(\"g, rg, rg -> g\", rad_frg, rad_rho_1, rad_rho_1)\n",
    "    - 2 * np.einsum(\"g, rg, rg -> g\", rad_fgg, rad_gamma_1, rad_rho_1)\n",
    "    - 2 * np.einsum(\"g, gr -> g\", rad_fg, rad_rho_2.diagonal())\n",
    ")"
   ]
  },
  {
   "cell_type": "code",
   "execution_count": 61,
   "metadata": {},
   "outputs": [
    {
     "data": {
      "text/plain": [
       "(1000,)"
      ]
     },
     "execution_count": 61,
     "metadata": {},
     "output_type": "execute_result"
    }
   ],
   "source": [
    "rad_xc.shape"
   ]
  },
  {
   "cell_type": "markdown",
   "metadata": {
    "lang": "en"
   },
   "source": [
    "Finally, we can draw it. The recurring picture mentioned in the figure refers to the article of [JCTC, 2013, 9, 3959-3964](https://dx.doi.org/10.1021/ct4004146)."
   ]
  },
  {
   "cell_type": "code",
   "execution_count": 63,
   "metadata": {},
   "outputs": [
    {
     "data": {
      "application/javascript": [
       "/* Put everything inside the global mpl namespace */\n",
       "window.mpl = {};\n",
       "\n",
       "\n",
       "mpl.get_websocket_type = function() {\n",
       "    if (typeof(WebSocket) !== 'undefined') {\n",
       "        return WebSocket;\n",
       "    } else if (typeof(MozWebSocket) !== 'undefined') {\n",
       "        return MozWebSocket;\n",
       "    } else {\n",
       "        alert('Your browser does not have WebSocket support.' +\n",
       "              'Please try Chrome, Safari or Firefox ≥ 6. ' +\n",
       "              'Firefox 4 and 5 are also supported but you ' +\n",
       "              'have to enable WebSockets in about:config.');\n",
       "    };\n",
       "}\n",
       "\n",
       "mpl.figure = function(figure_id, websocket, ondownload, parent_element) {\n",
       "    this.id = figure_id;\n",
       "\n",
       "    this.ws = websocket;\n",
       "\n",
       "    this.supports_binary = (this.ws.binaryType != undefined);\n",
       "\n",
       "    if (!this.supports_binary) {\n",
       "        var warnings = document.getElementById(\"mpl-warnings\");\n",
       "        if (warnings) {\n",
       "            warnings.style.display = 'block';\n",
       "            warnings.textContent = (\n",
       "                \"This browser does not support binary websocket messages. \" +\n",
       "                    \"Performance may be slow.\");\n",
       "        }\n",
       "    }\n",
       "\n",
       "    this.imageObj = new Image();\n",
       "\n",
       "    this.context = undefined;\n",
       "    this.message = undefined;\n",
       "    this.canvas = undefined;\n",
       "    this.rubberband_canvas = undefined;\n",
       "    this.rubberband_context = undefined;\n",
       "    this.format_dropdown = undefined;\n",
       "\n",
       "    this.image_mode = 'full';\n",
       "\n",
       "    this.root = $('<div/>');\n",
       "    this._root_extra_style(this.root)\n",
       "    this.root.attr('style', 'display: inline-block');\n",
       "\n",
       "    $(parent_element).append(this.root);\n",
       "\n",
       "    this._init_header(this);\n",
       "    this._init_canvas(this);\n",
       "    this._init_toolbar(this);\n",
       "\n",
       "    var fig = this;\n",
       "\n",
       "    this.waiting = false;\n",
       "\n",
       "    this.ws.onopen =  function () {\n",
       "            fig.send_message(\"supports_binary\", {value: fig.supports_binary});\n",
       "            fig.send_message(\"send_image_mode\", {});\n",
       "            if (mpl.ratio != 1) {\n",
       "                fig.send_message(\"set_dpi_ratio\", {'dpi_ratio': mpl.ratio});\n",
       "            }\n",
       "            fig.send_message(\"refresh\", {});\n",
       "        }\n",
       "\n",
       "    this.imageObj.onload = function() {\n",
       "            if (fig.image_mode == 'full') {\n",
       "                // Full images could contain transparency (where diff images\n",
       "                // almost always do), so we need to clear the canvas so that\n",
       "                // there is no ghosting.\n",
       "                fig.context.clearRect(0, 0, fig.canvas.width, fig.canvas.height);\n",
       "            }\n",
       "            fig.context.drawImage(fig.imageObj, 0, 0);\n",
       "        };\n",
       "\n",
       "    this.imageObj.onunload = function() {\n",
       "        fig.ws.close();\n",
       "    }\n",
       "\n",
       "    this.ws.onmessage = this._make_on_message_function(this);\n",
       "\n",
       "    this.ondownload = ondownload;\n",
       "}\n",
       "\n",
       "mpl.figure.prototype._init_header = function() {\n",
       "    var titlebar = $(\n",
       "        '<div class=\"ui-dialog-titlebar ui-widget-header ui-corner-all ' +\n",
       "        'ui-helper-clearfix\"/>');\n",
       "    var titletext = $(\n",
       "        '<div class=\"ui-dialog-title\" style=\"width: 100%; ' +\n",
       "        'text-align: center; padding: 3px;\"/>');\n",
       "    titlebar.append(titletext)\n",
       "    this.root.append(titlebar);\n",
       "    this.header = titletext[0];\n",
       "}\n",
       "\n",
       "\n",
       "\n",
       "mpl.figure.prototype._canvas_extra_style = function(canvas_div) {\n",
       "\n",
       "}\n",
       "\n",
       "\n",
       "mpl.figure.prototype._root_extra_style = function(canvas_div) {\n",
       "\n",
       "}\n",
       "\n",
       "mpl.figure.prototype._init_canvas = function() {\n",
       "    var fig = this;\n",
       "\n",
       "    var canvas_div = $('<div/>');\n",
       "\n",
       "    canvas_div.attr('style', 'position: relative; clear: both; outline: 0');\n",
       "\n",
       "    function canvas_keyboard_event(event) {\n",
       "        return fig.key_event(event, event['data']);\n",
       "    }\n",
       "\n",
       "    canvas_div.keydown('key_press', canvas_keyboard_event);\n",
       "    canvas_div.keyup('key_release', canvas_keyboard_event);\n",
       "    this.canvas_div = canvas_div\n",
       "    this._canvas_extra_style(canvas_div)\n",
       "    this.root.append(canvas_div);\n",
       "\n",
       "    var canvas = $('<canvas/>');\n",
       "    canvas.addClass('mpl-canvas');\n",
       "    canvas.attr('style', \"left: 0; top: 0; z-index: 0; outline: 0\")\n",
       "\n",
       "    this.canvas = canvas[0];\n",
       "    this.context = canvas[0].getContext(\"2d\");\n",
       "\n",
       "    var backingStore = this.context.backingStorePixelRatio ||\n",
       "\tthis.context.webkitBackingStorePixelRatio ||\n",
       "\tthis.context.mozBackingStorePixelRatio ||\n",
       "\tthis.context.msBackingStorePixelRatio ||\n",
       "\tthis.context.oBackingStorePixelRatio ||\n",
       "\tthis.context.backingStorePixelRatio || 1;\n",
       "\n",
       "    mpl.ratio = (window.devicePixelRatio || 1) / backingStore;\n",
       "\n",
       "    var rubberband = $('<canvas/>');\n",
       "    rubberband.attr('style', \"position: absolute; left: 0; top: 0; z-index: 1;\")\n",
       "\n",
       "    var pass_mouse_events = true;\n",
       "\n",
       "    canvas_div.resizable({\n",
       "        start: function(event, ui) {\n",
       "            pass_mouse_events = false;\n",
       "        },\n",
       "        resize: function(event, ui) {\n",
       "            fig.request_resize(ui.size.width, ui.size.height);\n",
       "        },\n",
       "        stop: function(event, ui) {\n",
       "            pass_mouse_events = true;\n",
       "            fig.request_resize(ui.size.width, ui.size.height);\n",
       "        },\n",
       "    });\n",
       "\n",
       "    function mouse_event_fn(event) {\n",
       "        if (pass_mouse_events)\n",
       "            return fig.mouse_event(event, event['data']);\n",
       "    }\n",
       "\n",
       "    rubberband.mousedown('button_press', mouse_event_fn);\n",
       "    rubberband.mouseup('button_release', mouse_event_fn);\n",
       "    // Throttle sequential mouse events to 1 every 20ms.\n",
       "    rubberband.mousemove('motion_notify', mouse_event_fn);\n",
       "\n",
       "    rubberband.mouseenter('figure_enter', mouse_event_fn);\n",
       "    rubberband.mouseleave('figure_leave', mouse_event_fn);\n",
       "\n",
       "    canvas_div.on(\"wheel\", function (event) {\n",
       "        event = event.originalEvent;\n",
       "        event['data'] = 'scroll'\n",
       "        if (event.deltaY < 0) {\n",
       "            event.step = 1;\n",
       "        } else {\n",
       "            event.step = -1;\n",
       "        }\n",
       "        mouse_event_fn(event);\n",
       "    });\n",
       "\n",
       "    canvas_div.append(canvas);\n",
       "    canvas_div.append(rubberband);\n",
       "\n",
       "    this.rubberband = rubberband;\n",
       "    this.rubberband_canvas = rubberband[0];\n",
       "    this.rubberband_context = rubberband[0].getContext(\"2d\");\n",
       "    this.rubberband_context.strokeStyle = \"#000000\";\n",
       "\n",
       "    this._resize_canvas = function(width, height) {\n",
       "        // Keep the size of the canvas, canvas container, and rubber band\n",
       "        // canvas in synch.\n",
       "        canvas_div.css('width', width)\n",
       "        canvas_div.css('height', height)\n",
       "\n",
       "        canvas.attr('width', width * mpl.ratio);\n",
       "        canvas.attr('height', height * mpl.ratio);\n",
       "        canvas.attr('style', 'width: ' + width + 'px; height: ' + height + 'px;');\n",
       "\n",
       "        rubberband.attr('width', width);\n",
       "        rubberband.attr('height', height);\n",
       "    }\n",
       "\n",
       "    // Set the figure to an initial 600x600px, this will subsequently be updated\n",
       "    // upon first draw.\n",
       "    this._resize_canvas(600, 600);\n",
       "\n",
       "    // Disable right mouse context menu.\n",
       "    $(this.rubberband_canvas).bind(\"contextmenu\",function(e){\n",
       "        return false;\n",
       "    });\n",
       "\n",
       "    function set_focus () {\n",
       "        canvas.focus();\n",
       "        canvas_div.focus();\n",
       "    }\n",
       "\n",
       "    window.setTimeout(set_focus, 100);\n",
       "}\n",
       "\n",
       "mpl.figure.prototype._init_toolbar = function() {\n",
       "    var fig = this;\n",
       "\n",
       "    var nav_element = $('<div/>')\n",
       "    nav_element.attr('style', 'width: 100%');\n",
       "    this.root.append(nav_element);\n",
       "\n",
       "    // Define a callback function for later on.\n",
       "    function toolbar_event(event) {\n",
       "        return fig.toolbar_button_onclick(event['data']);\n",
       "    }\n",
       "    function toolbar_mouse_event(event) {\n",
       "        return fig.toolbar_button_onmouseover(event['data']);\n",
       "    }\n",
       "\n",
       "    for(var toolbar_ind in mpl.toolbar_items) {\n",
       "        var name = mpl.toolbar_items[toolbar_ind][0];\n",
       "        var tooltip = mpl.toolbar_items[toolbar_ind][1];\n",
       "        var image = mpl.toolbar_items[toolbar_ind][2];\n",
       "        var method_name = mpl.toolbar_items[toolbar_ind][3];\n",
       "\n",
       "        if (!name) {\n",
       "            // put a spacer in here.\n",
       "            continue;\n",
       "        }\n",
       "        var button = $('<button/>');\n",
       "        button.addClass('ui-button ui-widget ui-state-default ui-corner-all ' +\n",
       "                        'ui-button-icon-only');\n",
       "        button.attr('role', 'button');\n",
       "        button.attr('aria-disabled', 'false');\n",
       "        button.click(method_name, toolbar_event);\n",
       "        button.mouseover(tooltip, toolbar_mouse_event);\n",
       "\n",
       "        var icon_img = $('<span/>');\n",
       "        icon_img.addClass('ui-button-icon-primary ui-icon');\n",
       "        icon_img.addClass(image);\n",
       "        icon_img.addClass('ui-corner-all');\n",
       "\n",
       "        var tooltip_span = $('<span/>');\n",
       "        tooltip_span.addClass('ui-button-text');\n",
       "        tooltip_span.html(tooltip);\n",
       "\n",
       "        button.append(icon_img);\n",
       "        button.append(tooltip_span);\n",
       "\n",
       "        nav_element.append(button);\n",
       "    }\n",
       "\n",
       "    var fmt_picker_span = $('<span/>');\n",
       "\n",
       "    var fmt_picker = $('<select/>');\n",
       "    fmt_picker.addClass('mpl-toolbar-option ui-widget ui-widget-content');\n",
       "    fmt_picker_span.append(fmt_picker);\n",
       "    nav_element.append(fmt_picker_span);\n",
       "    this.format_dropdown = fmt_picker[0];\n",
       "\n",
       "    for (var ind in mpl.extensions) {\n",
       "        var fmt = mpl.extensions[ind];\n",
       "        var option = $(\n",
       "            '<option/>', {selected: fmt === mpl.default_extension}).html(fmt);\n",
       "        fmt_picker.append(option)\n",
       "    }\n",
       "\n",
       "    // Add hover states to the ui-buttons\n",
       "    $( \".ui-button\" ).hover(\n",
       "        function() { $(this).addClass(\"ui-state-hover\");},\n",
       "        function() { $(this).removeClass(\"ui-state-hover\");}\n",
       "    );\n",
       "\n",
       "    var status_bar = $('<span class=\"mpl-message\"/>');\n",
       "    nav_element.append(status_bar);\n",
       "    this.message = status_bar[0];\n",
       "}\n",
       "\n",
       "mpl.figure.prototype.request_resize = function(x_pixels, y_pixels) {\n",
       "    // Request matplotlib to resize the figure. Matplotlib will then trigger a resize in the client,\n",
       "    // which will in turn request a refresh of the image.\n",
       "    this.send_message('resize', {'width': x_pixels, 'height': y_pixels});\n",
       "}\n",
       "\n",
       "mpl.figure.prototype.send_message = function(type, properties) {\n",
       "    properties['type'] = type;\n",
       "    properties['figure_id'] = this.id;\n",
       "    this.ws.send(JSON.stringify(properties));\n",
       "}\n",
       "\n",
       "mpl.figure.prototype.send_draw_message = function() {\n",
       "    if (!this.waiting) {\n",
       "        this.waiting = true;\n",
       "        this.ws.send(JSON.stringify({type: \"draw\", figure_id: this.id}));\n",
       "    }\n",
       "}\n",
       "\n",
       "\n",
       "mpl.figure.prototype.handle_save = function(fig, msg) {\n",
       "    var format_dropdown = fig.format_dropdown;\n",
       "    var format = format_dropdown.options[format_dropdown.selectedIndex].value;\n",
       "    fig.ondownload(fig, format);\n",
       "}\n",
       "\n",
       "\n",
       "mpl.figure.prototype.handle_resize = function(fig, msg) {\n",
       "    var size = msg['size'];\n",
       "    if (size[0] != fig.canvas.width || size[1] != fig.canvas.height) {\n",
       "        fig._resize_canvas(size[0], size[1]);\n",
       "        fig.send_message(\"refresh\", {});\n",
       "    };\n",
       "}\n",
       "\n",
       "mpl.figure.prototype.handle_rubberband = function(fig, msg) {\n",
       "    var x0 = msg['x0'] / mpl.ratio;\n",
       "    var y0 = (fig.canvas.height - msg['y0']) / mpl.ratio;\n",
       "    var x1 = msg['x1'] / mpl.ratio;\n",
       "    var y1 = (fig.canvas.height - msg['y1']) / mpl.ratio;\n",
       "    x0 = Math.floor(x0) + 0.5;\n",
       "    y0 = Math.floor(y0) + 0.5;\n",
       "    x1 = Math.floor(x1) + 0.5;\n",
       "    y1 = Math.floor(y1) + 0.5;\n",
       "    var min_x = Math.min(x0, x1);\n",
       "    var min_y = Math.min(y0, y1);\n",
       "    var width = Math.abs(x1 - x0);\n",
       "    var height = Math.abs(y1 - y0);\n",
       "\n",
       "    fig.rubberband_context.clearRect(\n",
       "        0, 0, fig.canvas.width, fig.canvas.height);\n",
       "\n",
       "    fig.rubberband_context.strokeRect(min_x, min_y, width, height);\n",
       "}\n",
       "\n",
       "mpl.figure.prototype.handle_figure_label = function(fig, msg) {\n",
       "    // Updates the figure title.\n",
       "    fig.header.textContent = msg['label'];\n",
       "}\n",
       "\n",
       "mpl.figure.prototype.handle_cursor = function(fig, msg) {\n",
       "    var cursor = msg['cursor'];\n",
       "    switch(cursor)\n",
       "    {\n",
       "    case 0:\n",
       "        cursor = 'pointer';\n",
       "        break;\n",
       "    case 1:\n",
       "        cursor = 'default';\n",
       "        break;\n",
       "    case 2:\n",
       "        cursor = 'crosshair';\n",
       "        break;\n",
       "    case 3:\n",
       "        cursor = 'move';\n",
       "        break;\n",
       "    }\n",
       "    fig.rubberband_canvas.style.cursor = cursor;\n",
       "}\n",
       "\n",
       "mpl.figure.prototype.handle_message = function(fig, msg) {\n",
       "    fig.message.textContent = msg['message'];\n",
       "}\n",
       "\n",
       "mpl.figure.prototype.handle_draw = function(fig, msg) {\n",
       "    // Request the server to send over a new figure.\n",
       "    fig.send_draw_message();\n",
       "}\n",
       "\n",
       "mpl.figure.prototype.handle_image_mode = function(fig, msg) {\n",
       "    fig.image_mode = msg['mode'];\n",
       "}\n",
       "\n",
       "mpl.figure.prototype.updated_canvas_event = function() {\n",
       "    // Called whenever the canvas gets updated.\n",
       "    this.send_message(\"ack\", {});\n",
       "}\n",
       "\n",
       "// A function to construct a web socket function for onmessage handling.\n",
       "// Called in the figure constructor.\n",
       "mpl.figure.prototype._make_on_message_function = function(fig) {\n",
       "    return function socket_on_message(evt) {\n",
       "        if (evt.data instanceof Blob) {\n",
       "            /* FIXME: We get \"Resource interpreted as Image but\n",
       "             * transferred with MIME type text/plain:\" errors on\n",
       "             * Chrome.  But how to set the MIME type?  It doesn't seem\n",
       "             * to be part of the websocket stream */\n",
       "            evt.data.type = \"image/png\";\n",
       "\n",
       "            /* Free the memory for the previous frames */\n",
       "            if (fig.imageObj.src) {\n",
       "                (window.URL || window.webkitURL).revokeObjectURL(\n",
       "                    fig.imageObj.src);\n",
       "            }\n",
       "\n",
       "            fig.imageObj.src = (window.URL || window.webkitURL).createObjectURL(\n",
       "                evt.data);\n",
       "            fig.updated_canvas_event();\n",
       "            fig.waiting = false;\n",
       "            return;\n",
       "        }\n",
       "        else if (typeof evt.data === 'string' && evt.data.slice(0, 21) == \"data:image/png;base64\") {\n",
       "            fig.imageObj.src = evt.data;\n",
       "            fig.updated_canvas_event();\n",
       "            fig.waiting = false;\n",
       "            return;\n",
       "        }\n",
       "\n",
       "        var msg = JSON.parse(evt.data);\n",
       "        var msg_type = msg['type'];\n",
       "\n",
       "        // Call the  \"handle_{type}\" callback, which takes\n",
       "        // the figure and JSON message as its only arguments.\n",
       "        try {\n",
       "            var callback = fig[\"handle_\" + msg_type];\n",
       "        } catch (e) {\n",
       "            console.log(\"No handler for the '\" + msg_type + \"' message type: \", msg);\n",
       "            return;\n",
       "        }\n",
       "\n",
       "        if (callback) {\n",
       "            try {\n",
       "                // console.log(\"Handling '\" + msg_type + \"' message: \", msg);\n",
       "                callback(fig, msg);\n",
       "            } catch (e) {\n",
       "                console.log(\"Exception inside the 'handler_\" + msg_type + \"' callback:\", e, e.stack, msg);\n",
       "            }\n",
       "        }\n",
       "    };\n",
       "}\n",
       "\n",
       "// from http://stackoverflow.com/questions/1114465/getting-mouse-location-in-canvas\n",
       "mpl.findpos = function(e) {\n",
       "    //this section is from http://www.quirksmode.org/js/events_properties.html\n",
       "    var targ;\n",
       "    if (!e)\n",
       "        e = window.event;\n",
       "    if (e.target)\n",
       "        targ = e.target;\n",
       "    else if (e.srcElement)\n",
       "        targ = e.srcElement;\n",
       "    if (targ.nodeType == 3) // defeat Safari bug\n",
       "        targ = targ.parentNode;\n",
       "\n",
       "    // jQuery normalizes the pageX and pageY\n",
       "    // pageX,Y are the mouse positions relative to the document\n",
       "    // offset() returns the position of the element relative to the document\n",
       "    var x = e.pageX - $(targ).offset().left;\n",
       "    var y = e.pageY - $(targ).offset().top;\n",
       "\n",
       "    return {\"x\": x, \"y\": y};\n",
       "};\n",
       "\n",
       "/*\n",
       " * return a copy of an object with only non-object keys\n",
       " * we need this to avoid circular references\n",
       " * http://stackoverflow.com/a/24161582/3208463\n",
       " */\n",
       "function simpleKeys (original) {\n",
       "  return Object.keys(original).reduce(function (obj, key) {\n",
       "    if (typeof original[key] !== 'object')\n",
       "        obj[key] = original[key]\n",
       "    return obj;\n",
       "  }, {});\n",
       "}\n",
       "\n",
       "mpl.figure.prototype.mouse_event = function(event, name) {\n",
       "    var canvas_pos = mpl.findpos(event)\n",
       "\n",
       "    if (name === 'button_press')\n",
       "    {\n",
       "        this.canvas.focus();\n",
       "        this.canvas_div.focus();\n",
       "    }\n",
       "\n",
       "    var x = canvas_pos.x * mpl.ratio;\n",
       "    var y = canvas_pos.y * mpl.ratio;\n",
       "\n",
       "    this.send_message(name, {x: x, y: y, button: event.button,\n",
       "                             step: event.step,\n",
       "                             guiEvent: simpleKeys(event)});\n",
       "\n",
       "    /* This prevents the web browser from automatically changing to\n",
       "     * the text insertion cursor when the button is pressed.  We want\n",
       "     * to control all of the cursor setting manually through the\n",
       "     * 'cursor' event from matplotlib */\n",
       "    event.preventDefault();\n",
       "    return false;\n",
       "}\n",
       "\n",
       "mpl.figure.prototype._key_event_extra = function(event, name) {\n",
       "    // Handle any extra behaviour associated with a key event\n",
       "}\n",
       "\n",
       "mpl.figure.prototype.key_event = function(event, name) {\n",
       "\n",
       "    // Prevent repeat events\n",
       "    if (name == 'key_press')\n",
       "    {\n",
       "        if (event.which === this._key)\n",
       "            return;\n",
       "        else\n",
       "            this._key = event.which;\n",
       "    }\n",
       "    if (name == 'key_release')\n",
       "        this._key = null;\n",
       "\n",
       "    var value = '';\n",
       "    if (event.ctrlKey && event.which != 17)\n",
       "        value += \"ctrl+\";\n",
       "    if (event.altKey && event.which != 18)\n",
       "        value += \"alt+\";\n",
       "    if (event.shiftKey && event.which != 16)\n",
       "        value += \"shift+\";\n",
       "\n",
       "    value += 'k';\n",
       "    value += event.which.toString();\n",
       "\n",
       "    this._key_event_extra(event, name);\n",
       "\n",
       "    this.send_message(name, {key: value,\n",
       "                             guiEvent: simpleKeys(event)});\n",
       "    return false;\n",
       "}\n",
       "\n",
       "mpl.figure.prototype.toolbar_button_onclick = function(name) {\n",
       "    if (name == 'download') {\n",
       "        this.handle_save(this, null);\n",
       "    } else {\n",
       "        this.send_message(\"toolbar_button\", {name: name});\n",
       "    }\n",
       "};\n",
       "\n",
       "mpl.figure.prototype.toolbar_button_onmouseover = function(tooltip) {\n",
       "    this.message.textContent = tooltip;\n",
       "};\n",
       "mpl.toolbar_items = [[\"Home\", \"Reset original view\", \"fa fa-home icon-home\", \"home\"], [\"Back\", \"Back to  previous view\", \"fa fa-arrow-left icon-arrow-left\", \"back\"], [\"Forward\", \"Forward to next view\", \"fa fa-arrow-right icon-arrow-right\", \"forward\"], [\"\", \"\", \"\", \"\"], [\"Pan\", \"Pan axes with left mouse, zoom with right\", \"fa fa-arrows icon-move\", \"pan\"], [\"Zoom\", \"Zoom to rectangle\", \"fa fa-square-o icon-check-empty\", \"zoom\"], [\"\", \"\", \"\", \"\"], [\"Download\", \"Download plot\", \"fa fa-floppy-o icon-save\", \"download\"]];\n",
       "\n",
       "mpl.extensions = [\"eps\", \"jpeg\", \"pdf\", \"png\", \"ps\", \"raw\", \"svg\", \"tif\"];\n",
       "\n",
       "mpl.default_extension = \"png\";var comm_websocket_adapter = function(comm) {\n",
       "    // Create a \"websocket\"-like object which calls the given IPython comm\n",
       "    // object with the appropriate methods. Currently this is a non binary\n",
       "    // socket, so there is still some room for performance tuning.\n",
       "    var ws = {};\n",
       "\n",
       "    ws.close = function() {\n",
       "        comm.close()\n",
       "    };\n",
       "    ws.send = function(m) {\n",
       "        //console.log('sending', m);\n",
       "        comm.send(m);\n",
       "    };\n",
       "    // Register the callback with on_msg.\n",
       "    comm.on_msg(function(msg) {\n",
       "        //console.log('receiving', msg['content']['data'], msg);\n",
       "        // Pass the mpl event to the overridden (by mpl) onmessage function.\n",
       "        ws.onmessage(msg['content']['data'])\n",
       "    });\n",
       "    return ws;\n",
       "}\n",
       "\n",
       "mpl.mpl_figure_comm = function(comm, msg) {\n",
       "    // This is the function which gets called when the mpl process\n",
       "    // starts-up an IPython Comm through the \"matplotlib\" channel.\n",
       "\n",
       "    var id = msg.content.data.id;\n",
       "    // Get hold of the div created by the display call when the Comm\n",
       "    // socket was opened in Python.\n",
       "    var element = $(\"#\" + id);\n",
       "    var ws_proxy = comm_websocket_adapter(comm)\n",
       "\n",
       "    function ondownload(figure, format) {\n",
       "        window.open(figure.imageObj.src);\n",
       "    }\n",
       "\n",
       "    var fig = new mpl.figure(id, ws_proxy,\n",
       "                           ondownload,\n",
       "                           element.get(0));\n",
       "\n",
       "    // Call onopen now - mpl needs it, as it is assuming we've passed it a real\n",
       "    // web socket which is closed, not our websocket->open comm proxy.\n",
       "    ws_proxy.onopen();\n",
       "\n",
       "    fig.parent_element = element.get(0);\n",
       "    fig.cell_info = mpl.find_output_cell(\"<div id='\" + id + \"'></div>\");\n",
       "    if (!fig.cell_info) {\n",
       "        console.error(\"Failed to find cell for figure\", id, fig);\n",
       "        return;\n",
       "    }\n",
       "\n",
       "    var output_index = fig.cell_info[2]\n",
       "    var cell = fig.cell_info[0];\n",
       "\n",
       "};\n",
       "\n",
       "mpl.figure.prototype.handle_close = function(fig, msg) {\n",
       "    var width = fig.canvas.width/mpl.ratio\n",
       "    fig.root.unbind('remove')\n",
       "\n",
       "    // Update the output cell to use the data from the current canvas.\n",
       "    fig.push_to_output();\n",
       "    var dataURL = fig.canvas.toDataURL();\n",
       "    // Re-enable the keyboard manager in IPython - without this line, in FF,\n",
       "    // the notebook keyboard shortcuts fail.\n",
       "    IPython.keyboard_manager.enable()\n",
       "    $(fig.parent_element).html('<img src=\"' + dataURL + '\" width=\"' + width + '\">');\n",
       "    fig.close_ws(fig, msg);\n",
       "}\n",
       "\n",
       "mpl.figure.prototype.close_ws = function(fig, msg){\n",
       "    fig.send_message('closing', msg);\n",
       "    // fig.ws.close()\n",
       "}\n",
       "\n",
       "mpl.figure.prototype.push_to_output = function(remove_interactive) {\n",
       "    // Turn the data on the canvas into data in the output cell.\n",
       "    var width = this.canvas.width/mpl.ratio\n",
       "    var dataURL = this.canvas.toDataURL();\n",
       "    this.cell_info[1]['text/html'] = '<img src=\"' + dataURL + '\" width=\"' + width + '\">';\n",
       "}\n",
       "\n",
       "mpl.figure.prototype.updated_canvas_event = function() {\n",
       "    // Tell IPython that the notebook contents must change.\n",
       "    IPython.notebook.set_dirty(true);\n",
       "    this.send_message(\"ack\", {});\n",
       "    var fig = this;\n",
       "    // Wait a second, then push the new image to the DOM so\n",
       "    // that it is saved nicely (might be nice to debounce this).\n",
       "    setTimeout(function () { fig.push_to_output() }, 1000);\n",
       "}\n",
       "\n",
       "mpl.figure.prototype._init_toolbar = function() {\n",
       "    var fig = this;\n",
       "\n",
       "    var nav_element = $('<div/>')\n",
       "    nav_element.attr('style', 'width: 100%');\n",
       "    this.root.append(nav_element);\n",
       "\n",
       "    // Define a callback function for later on.\n",
       "    function toolbar_event(event) {\n",
       "        return fig.toolbar_button_onclick(event['data']);\n",
       "    }\n",
       "    function toolbar_mouse_event(event) {\n",
       "        return fig.toolbar_button_onmouseover(event['data']);\n",
       "    }\n",
       "\n",
       "    for(var toolbar_ind in mpl.toolbar_items){\n",
       "        var name = mpl.toolbar_items[toolbar_ind][0];\n",
       "        var tooltip = mpl.toolbar_items[toolbar_ind][1];\n",
       "        var image = mpl.toolbar_items[toolbar_ind][2];\n",
       "        var method_name = mpl.toolbar_items[toolbar_ind][3];\n",
       "\n",
       "        if (!name) { continue; };\n",
       "\n",
       "        var button = $('<button class=\"btn btn-default\" href=\"#\" title=\"' + name + '\"><i class=\"fa ' + image + ' fa-lg\"></i></button>');\n",
       "        button.click(method_name, toolbar_event);\n",
       "        button.mouseover(tooltip, toolbar_mouse_event);\n",
       "        nav_element.append(button);\n",
       "    }\n",
       "\n",
       "    // Add the status bar.\n",
       "    var status_bar = $('<span class=\"mpl-message\" style=\"text-align:right; float: right;\"/>');\n",
       "    nav_element.append(status_bar);\n",
       "    this.message = status_bar[0];\n",
       "\n",
       "    // Add the close button to the window.\n",
       "    var buttongrp = $('<div class=\"btn-group inline pull-right\"></div>');\n",
       "    var button = $('<button class=\"btn btn-mini btn-primary\" href=\"#\" title=\"Stop Interaction\"><i class=\"fa fa-power-off icon-remove icon-large\"></i></button>');\n",
       "    button.click(function (evt) { fig.handle_close(fig, {}); } );\n",
       "    button.mouseover('Stop Interaction', toolbar_mouse_event);\n",
       "    buttongrp.append(button);\n",
       "    var titlebar = this.root.find($('.ui-dialog-titlebar'));\n",
       "    titlebar.prepend(buttongrp);\n",
       "}\n",
       "\n",
       "mpl.figure.prototype._root_extra_style = function(el){\n",
       "    var fig = this\n",
       "    el.on(\"remove\", function(){\n",
       "\tfig.close_ws(fig, {});\n",
       "    });\n",
       "}\n",
       "\n",
       "mpl.figure.prototype._canvas_extra_style = function(el){\n",
       "    // this is important to make the div 'focusable\n",
       "    el.attr('tabindex', 0)\n",
       "    // reach out to IPython and tell the keyboard manager to turn it's self\n",
       "    // off when our div gets focus\n",
       "\n",
       "    // location in version 3\n",
       "    if (IPython.notebook.keyboard_manager) {\n",
       "        IPython.notebook.keyboard_manager.register_events(el);\n",
       "    }\n",
       "    else {\n",
       "        // location in version 2\n",
       "        IPython.keyboard_manager.register_events(el);\n",
       "    }\n",
       "\n",
       "}\n",
       "\n",
       "mpl.figure.prototype._key_event_extra = function(event, name) {\n",
       "    var manager = IPython.notebook.keyboard_manager;\n",
       "    if (!manager)\n",
       "        manager = IPython.keyboard_manager;\n",
       "\n",
       "    // Check for shift+enter\n",
       "    if (event.shiftKey && event.which == 13) {\n",
       "        this.canvas_div.blur();\n",
       "        event.shiftKey = false;\n",
       "        // Send a \"J\" for go to next cell\n",
       "        event.which = 74;\n",
       "        event.keyCode = 74;\n",
       "        manager.command_mode();\n",
       "        manager.handle_keydown(event);\n",
       "    }\n",
       "}\n",
       "\n",
       "mpl.figure.prototype.handle_save = function(fig, msg) {\n",
       "    fig.ondownload(fig, null);\n",
       "}\n",
       "\n",
       "\n",
       "mpl.find_output_cell = function(html_output) {\n",
       "    // Return the cell and output element which can be found *uniquely* in the notebook.\n",
       "    // Note - this is a bit hacky, but it is done because the \"notebook_saving.Notebook\"\n",
       "    // IPython event is triggered only after the cells have been serialised, which for\n",
       "    // our purposes (turning an active figure into a static one), is too late.\n",
       "    var cells = IPython.notebook.get_cells();\n",
       "    var ncells = cells.length;\n",
       "    for (var i=0; i<ncells; i++) {\n",
       "        var cell = cells[i];\n",
       "        if (cell.cell_type === 'code'){\n",
       "            for (var j=0; j<cell.output_area.outputs.length; j++) {\n",
       "                var data = cell.output_area.outputs[j];\n",
       "                if (data.data) {\n",
       "                    // IPython >= 3 moved mimebundle to data attribute of output\n",
       "                    data = data.data;\n",
       "                }\n",
       "                if (data['text/html'] == html_output) {\n",
       "                    return [cell, data, j];\n",
       "                }\n",
       "            }\n",
       "        }\n",
       "    }\n",
       "}\n",
       "\n",
       "// Register the function which deals with the matplotlib target/channel.\n",
       "// The kernel may be null if the page has been refreshed.\n",
       "if (IPython.notebook.kernel != null) {\n",
       "    IPython.notebook.kernel.comm_manager.register_target('matplotlib', mpl.mpl_figure_comm);\n",
       "}\n"
      ],
      "text/plain": [
       "<IPython.core.display.Javascript object>"
      ]
     },
     "metadata": {},
     "output_type": "display_data"
    },
    {
     "data": {
      "text/html": [
       "<img src=\"data:image/png;base64,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\" width=\"300\">"
      ],
      "text/plain": [
       "<IPython.core.display.HTML object>"
      ]
     },
     "metadata": {},
     "output_type": "display_data"
    }
   ],
   "source": [
    "fig, ax = plt.subplots(figsize=(3, 4))\n",
    "ax.plot(rad_x, rad_xc)\n",
    "ax.set_xscale(\"log\")\n",
    "ax.set_xlim(1e-2, 1e1), ax.set_ylim(-11, 1)\n",
    "ax.set_xlabel(r\"$r$ (Bohr)\")\n",
    "ax.set_ylabel(r\"$v_\\mathrm{x}^\\mathsf{PBE} (r)$ (Hartree)\")\n",
    "ax.set_title(\"Reproduction of Figure 5\")\n",
    "fig.tight_layout()"
   ]
  },
  {
   "cell_type": "code",
   "execution_count": null,
   "metadata": {},
   "outputs": [],
   "source": []
  }
 ],
 "metadata": {
  "kernelspec": {
   "display_name": "Python 3",
   "language": "python",
   "name": "python3"
  },
  "language_info": {
   "codemirror_mode": {
    "name": "ipython",
    "version": 3
   },
   "file_extension": ".py",
   "mimetype": "text/x-python",
   "name": "python",
   "nbconvert_exporter": "python",
   "pygments_lexer": "ipython3",
   "version": "3.5.5"
  },
  "nbTranslate": {
   "displayLangs": [],
   "hotkey": "alt-t",
   "langInMainMenu": true,
   "sourceLang": "zh-cn",
   "targetLang": "en",
   "useGoogleTranslate": true
  },
  "toc": {
   "base_numbering": 1,
   "nav_menu": {},
   "number_sections": true,
   "sideBar": true,
   "skip_h1_title": false,
   "title_cell": "Table of Contents",
   "title_sidebar": "Contents",
   "toc_cell": false,
   "toc_position": {},
   "toc_section_display": true,
   "toc_window_display": false
  }
 },
 "nbformat": 4,
 "nbformat_minor": 4
}
